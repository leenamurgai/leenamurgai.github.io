{
 "cells": [
  {
   "cell_type": "markdown",
   "metadata": {},
   "source": [
    "# MBML: Statlog (German Credit Data) Data Set\n",
    "\n",
    "## 0. Install AIF360\n",
    "\n",
    "Install AIF360 before running this notebook. It's best to create an environment to work in first. From the command line:\n",
    "```\n",
    "conda create --name aif360 python=3.7\n",
    "```\n",
    "Then activate the environment:\n",
    "```\n",
    "conda activate aif360\n",
    "```\n",
    "Install the complete AIF360 library:\n",
    "```\n",
    "pip install 'aif360[all]'\n",
    "```\n",
    "Now open this notebook:\n",
    "```\n",
    "jupyter notebook mbml_german.ipynb\n",
    "```\n",
    "\n",
    "## 1. Import libraries\n",
    "\n",
    "The post [Jake VanderPlas, Installing Python Packages from a Jupyter Notebook (2017)](https://jakevdp.github.io/blog/2017/12/05/installing-python-packages-from-jupyter/) might be helpful if you don't have all the packages you need in the imports below."
   ]
  },
  {
   "cell_type": "code",
   "execution_count": 1,
   "metadata": {},
   "outputs": [],
   "source": [
    "import sys\n",
    "\n",
    "import os.path\n",
    "from os import path\n",
    "\n",
    "import requests\n",
    "\n",
    "import math\n",
    "import random\n",
    "import numpy as np\n",
    "import pandas as pd\n",
    "import scipy.stats as ss\n",
    "\n",
    "from aif360.datasets import StructuredDataset\n",
    "from aif360.datasets import BinaryLabelDataset\n",
    "from aif360.metrics import BinaryLabelDatasetMetric\n",
    "from aif360.metrics import ClassificationMetric\n",
    "\n",
    "from sklearn.metrics import f1_score\n",
    "from sklearn.metrics import precision_score\n",
    "from sklearn.metrics import recall_score\n",
    "from sklearn.metrics import accuracy_score\n",
    "from sklearn.metrics import roc_auc_score\n",
    "from sklearn.metrics import make_scorer\n",
    "from sklearn.preprocessing import StandardScaler\n",
    "from sklearn.model_selection import train_test_split\n",
    "from sklearn.model_selection import GridSearchCV\n",
    "from sklearn.tree import DecisionTreeClassifier\n",
    "from sklearn.ensemble import GradientBoostingClassifier\n",
    "\n",
    "#!{sys.executable} -m pip install xgboost\n",
    "#!brew install libomp\n",
    "#import xgboost as xgb\n",
    "#from xgboost import XGBClassifier\n",
    "\n",
    "#!{sys.executable} -m pip install seaborn\n",
    "import seaborn as sns\n",
    "import matplotlib.pyplot as plt\n",
    "%matplotlib inline\n",
    "\n",
    "plt.rcParams.update({\n",
    "    \"text.usetex\": True})"
   ]
  },
  {
   "cell_type": "markdown",
   "metadata": {},
   "source": [
    "## 2. Download and read file\n",
    "\n",
    "- Go to the [website for the Statlog (German Credit Data) Data Set](https://archive.ics.uci.edu/ml/datasets/statlog+(german+credit+data)) and familiarise yourself with the data.\n",
    "- Note that the information states that the following cost matrix should be used:\n",
    "```\n",
    "                      actual class\n",
    "                     | good | bad |\n",
    "                     |  1   |  2  |\n",
    "predicted | good |1|  0   |  5  |\n",
    "class     |  bad |2|  1   |  0  |\n",
    "```\n",
    "- Thus only errors contribute to the cost in training and a false positive costs five times that of a false negative."
   ]
  },
  {
   "cell_type": "code",
   "execution_count": 2,
   "metadata": {},
   "outputs": [],
   "source": [
    "def download_data(url, file):\n",
    "    if path.exists(file):\n",
    "        with open(file, 'wb') as f:\n",
    "            f.write(requests.get(url).content)\n",
    "\n",
    "names = ['checking', 'loanterm', 'credithistory', 'loanpurpose', 'loanamount', \n",
    "         'savings', 'employmenttime', 'repayrate', 'personalsex', 'otherdebtors', \n",
    "         'residencetime', 'propertystatus', 'age', 'otherloans', 'housing', \n",
    "         'ncredits', 'job', 'ndependents', 'telephone', 'foreignworker', 'goodcredit']\n",
    "\n",
    "url = \"http://archive.ics.uci.edu/ml/machine-learning-databases/statlog/german/german.data\"\n",
    "file = '../aif360/data/raw/german/german.data'\n",
    "download_data(url, file)\n",
    "data = pd.read_csv(file, names = names, delimiter=' ')"
   ]
  },
  {
   "cell_type": "markdown",
   "metadata": {},
   "source": [
    "## 3. Exploratory data analysis"
   ]
  },
  {
   "cell_type": "code",
   "execution_count": 3,
   "metadata": {
    "scrolled": false
   },
   "outputs": [
    {
     "name": "stdout",
     "output_type": "stream",
     "text": [
      "shape: (1000, 21)\n",
      "missing values: False\n",
      "unique feature rows: 1000\n"
     ]
    }
   ],
   "source": [
    "print('shape:', data.shape)\n",
    "print('missing values:', data.isnull().values.any())\n",
    "print('unique feature rows:', len(data.drop_duplicates(subset=names[:-1])))"
   ]
  },
  {
   "cell_type": "code",
   "execution_count": 4,
   "metadata": {},
   "outputs": [
    {
     "data": {
      "text/html": [
       "<div>\n",
       "<style scoped>\n",
       "    .dataframe tbody tr th:only-of-type {\n",
       "        vertical-align: middle;\n",
       "    }\n",
       "\n",
       "    .dataframe tbody tr th {\n",
       "        vertical-align: top;\n",
       "    }\n",
       "\n",
       "    .dataframe thead th {\n",
       "        text-align: right;\n",
       "    }\n",
       "</style>\n",
       "<table border=\"1\" class=\"dataframe\">\n",
       "  <thead>\n",
       "    <tr style=\"text-align: right;\">\n",
       "      <th></th>\n",
       "      <th>loanterm</th>\n",
       "      <th>loanamount</th>\n",
       "      <th>repayrate</th>\n",
       "      <th>male</th>\n",
       "      <th>residencetime</th>\n",
       "      <th>age</th>\n",
       "      <th>ncredits</th>\n",
       "      <th>ndependents</th>\n",
       "      <th>telephone</th>\n",
       "      <th>foreignworker</th>\n",
       "      <th>goodcredit</th>\n",
       "    </tr>\n",
       "  </thead>\n",
       "  <tbody>\n",
       "    <tr>\n",
       "      <th>count</th>\n",
       "      <td>1000.000000</td>\n",
       "      <td>1000.000000</td>\n",
       "      <td>1000.000000</td>\n",
       "      <td>1000.000000</td>\n",
       "      <td>1000.000000</td>\n",
       "      <td>1000.000000</td>\n",
       "      <td>1000.000000</td>\n",
       "      <td>1000.000000</td>\n",
       "      <td>1000.000000</td>\n",
       "      <td>1000.000000</td>\n",
       "      <td>1000.000000</td>\n",
       "    </tr>\n",
       "    <tr>\n",
       "      <th>mean</th>\n",
       "      <td>20.903000</td>\n",
       "      <td>3271.258000</td>\n",
       "      <td>2.973000</td>\n",
       "      <td>0.690000</td>\n",
       "      <td>2.845000</td>\n",
       "      <td>35.546000</td>\n",
       "      <td>1.407000</td>\n",
       "      <td>1.155000</td>\n",
       "      <td>0.404000</td>\n",
       "      <td>0.963000</td>\n",
       "      <td>0.700000</td>\n",
       "    </tr>\n",
       "    <tr>\n",
       "      <th>std</th>\n",
       "      <td>12.058814</td>\n",
       "      <td>2822.736876</td>\n",
       "      <td>1.118715</td>\n",
       "      <td>0.462725</td>\n",
       "      <td>1.103718</td>\n",
       "      <td>11.375469</td>\n",
       "      <td>0.577654</td>\n",
       "      <td>0.362086</td>\n",
       "      <td>0.490943</td>\n",
       "      <td>0.188856</td>\n",
       "      <td>0.458487</td>\n",
       "    </tr>\n",
       "    <tr>\n",
       "      <th>min</th>\n",
       "      <td>4.000000</td>\n",
       "      <td>250.000000</td>\n",
       "      <td>1.000000</td>\n",
       "      <td>0.000000</td>\n",
       "      <td>1.000000</td>\n",
       "      <td>19.000000</td>\n",
       "      <td>1.000000</td>\n",
       "      <td>1.000000</td>\n",
       "      <td>0.000000</td>\n",
       "      <td>0.000000</td>\n",
       "      <td>0.000000</td>\n",
       "    </tr>\n",
       "    <tr>\n",
       "      <th>25%</th>\n",
       "      <td>12.000000</td>\n",
       "      <td>1365.500000</td>\n",
       "      <td>2.000000</td>\n",
       "      <td>0.000000</td>\n",
       "      <td>2.000000</td>\n",
       "      <td>27.000000</td>\n",
       "      <td>1.000000</td>\n",
       "      <td>1.000000</td>\n",
       "      <td>0.000000</td>\n",
       "      <td>1.000000</td>\n",
       "      <td>0.000000</td>\n",
       "    </tr>\n",
       "    <tr>\n",
       "      <th>50%</th>\n",
       "      <td>18.000000</td>\n",
       "      <td>2319.500000</td>\n",
       "      <td>3.000000</td>\n",
       "      <td>1.000000</td>\n",
       "      <td>3.000000</td>\n",
       "      <td>33.000000</td>\n",
       "      <td>1.000000</td>\n",
       "      <td>1.000000</td>\n",
       "      <td>0.000000</td>\n",
       "      <td>1.000000</td>\n",
       "      <td>1.000000</td>\n",
       "    </tr>\n",
       "    <tr>\n",
       "      <th>75%</th>\n",
       "      <td>24.000000</td>\n",
       "      <td>3972.250000</td>\n",
       "      <td>4.000000</td>\n",
       "      <td>1.000000</td>\n",
       "      <td>4.000000</td>\n",
       "      <td>42.000000</td>\n",
       "      <td>2.000000</td>\n",
       "      <td>1.000000</td>\n",
       "      <td>1.000000</td>\n",
       "      <td>1.000000</td>\n",
       "      <td>1.000000</td>\n",
       "    </tr>\n",
       "    <tr>\n",
       "      <th>max</th>\n",
       "      <td>72.000000</td>\n",
       "      <td>18424.000000</td>\n",
       "      <td>4.000000</td>\n",
       "      <td>1.000000</td>\n",
       "      <td>4.000000</td>\n",
       "      <td>75.000000</td>\n",
       "      <td>4.000000</td>\n",
       "      <td>2.000000</td>\n",
       "      <td>1.000000</td>\n",
       "      <td>1.000000</td>\n",
       "      <td>1.000000</td>\n",
       "    </tr>\n",
       "  </tbody>\n",
       "</table>\n",
       "</div>"
      ],
      "text/plain": [
       "          loanterm    loanamount    repayrate         male  residencetime  \\\n",
       "count  1000.000000   1000.000000  1000.000000  1000.000000    1000.000000   \n",
       "mean     20.903000   3271.258000     2.973000     0.690000       2.845000   \n",
       "std      12.058814   2822.736876     1.118715     0.462725       1.103718   \n",
       "min       4.000000    250.000000     1.000000     0.000000       1.000000   \n",
       "25%      12.000000   1365.500000     2.000000     0.000000       2.000000   \n",
       "50%      18.000000   2319.500000     3.000000     1.000000       3.000000   \n",
       "75%      24.000000   3972.250000     4.000000     1.000000       4.000000   \n",
       "max      72.000000  18424.000000     4.000000     1.000000       4.000000   \n",
       "\n",
       "               age     ncredits  ndependents    telephone  foreignworker  \\\n",
       "count  1000.000000  1000.000000  1000.000000  1000.000000    1000.000000   \n",
       "mean     35.546000     1.407000     1.155000     0.404000       0.963000   \n",
       "std      11.375469     0.577654     0.362086     0.490943       0.188856   \n",
       "min      19.000000     1.000000     1.000000     0.000000       0.000000   \n",
       "25%      27.000000     1.000000     1.000000     0.000000       1.000000   \n",
       "50%      33.000000     1.000000     1.000000     0.000000       1.000000   \n",
       "75%      42.000000     2.000000     1.000000     1.000000       1.000000   \n",
       "max      75.000000     4.000000     2.000000     1.000000       1.000000   \n",
       "\n",
       "        goodcredit  \n",
       "count  1000.000000  \n",
       "mean      0.700000  \n",
       "std       0.458487  \n",
       "min       0.000000  \n",
       "25%       0.000000  \n",
       "50%       1.000000  \n",
       "75%       1.000000  \n",
       "max       1.000000  "
      ]
     },
     "metadata": {},
     "output_type": "display_data"
    },
    {
     "name": "stdout",
     "output_type": "stream",
     "text": [
      "numeric data:\n",
      "\n",
      "loanterm         int64\n",
      "loanamount       int64\n",
      "repayrate        int64\n",
      "male             int64\n",
      "residencetime    int64\n",
      "age              int64\n",
      "ncredits         int64\n",
      "ndependents      int64\n",
      "telephone        int64\n",
      "foreignworker    int64\n",
      "goodcredit       int64\n",
      "dtype: object\n",
      "\n",
      "Categorical Types\n",
      "\n",
      "checking ['A11' 'A12' 'A14' 'A13']\n",
      "credithistory ['A34' 'A32' 'A33' 'A30' 'A31']\n",
      "loanpurpose ['A43' 'A46' 'A42' 'A40' 'A41' 'A49' 'A44' 'A45' 'A410' 'A48']\n",
      "savings ['A65' 'A61' 'A63' 'A64' 'A62']\n",
      "employmenttime ['A75' 'A73' 'A74' 'A71' 'A72']\n",
      "otherdebtors ['A101' 'A103' 'A102']\n",
      "propertystatus ['A121' 'A122' 'A124' 'A123']\n",
      "otherloans ['A143' 'A141' 'A142']\n",
      "housing ['A152' 'A153' 'A151']\n",
      "job ['A173' 'A172' 'A174' 'A171']\n"
     ]
    }
   ],
   "source": [
    "def check_dtypes(data_df):\n",
    "    \"\"\"Output data types in the dataframe and for categorical data types obeject show all the unique values\"\"\"\n",
    "    data_num = list(data_df.select_dtypes(exclude='object'))\n",
    "    data_cat = list(data_df.select_dtypes(include='object'))\n",
    "\n",
    "    print('numeric data:\\n')\n",
    "    print(data_df[data_num].dtypes)\n",
    "    print('\\nCategorical Types\\n')\n",
    "    cat_dict = {feat : data_df[feat].unique() for feat in list(data_cat)}\n",
    "    for k, v in cat_dict.items():\n",
    "        print(k, v)\n",
    "    return data_num, cat_dict\n",
    "\n",
    "#cols_numeric, cat_dict = check_dtypes(data)\n",
    "#cols_cat = list(cat_dict.keys())\n",
    "\n",
    "data.goodcredit.replace([1,2], [1,0], inplace=True)\n",
    "data.telephone.replace(['A192','A191'], [1,0], inplace=True)\n",
    "data.foreignworker.replace(['A201','A202'], [1,0], inplace=True)\n",
    "\n",
    "data.personalsex.replace(['A91', 'A92', 'A93', 'A94', 'A95'], [1,0,1,1,0], inplace=True)\n",
    "data = data.rename(columns={'personalsex': 'male'})\n",
    "\n",
    "display(data.describe())\n",
    "\n",
    "cols_numeric, cat_dict = check_dtypes(data)\n",
    "cols_categorical = list(cat_dict.keys())"
   ]
  },
  {
   "cell_type": "markdown",
   "metadata": {},
   "source": [
    "### 3.1 Comments\n",
    "\n",
    "- 70% of the population are good credit risks\n",
    "- 69% of the population is male\n",
    "- 97% of the population are foreignworkers\n",
    "- Many of the numerical. data types are not really continuous variables but rather discrete because they are rounded and take only a few values.\n",
    "- The continuous variables are ```[loanterm, loanamount, age]```\n",
    "- ```ndependents``` takes only 2 values in the data, 1 or 2\n",
    "- ```[ncredits, residencetime, repayrate``` all take integer values between 1 and 4\n",
    "\n",
    "### 3.2 Look for associations in the data\n",
    "\n",
    "We try a few measures of association:\n",
    "- [Pearson's correlation](https://en.wikipedia.org/wiki/Pearson_correlation_coefficient)\n",
    "- [Normalised mutual information](https://en.wikipedia.org/wiki/Mutual_information#Normalized_variants)\n",
    "- [Cramers V](https://en.wikipedia.org/wiki/Cram%C3%A9r%27s_V)\n",
    "- [Proficiency](https://en.wikipedia.org/wiki/Uncertainty_coefficient)\n",
    "- [correlation ratio](https://en.wikipedia.org/wiki/Correlation_ratio)\n",
    "\n",
    "Some helpful stuff here: [Shaked Zychlinski\n",
    ", The Search for Categorical Correlation (2018)](https://towardsdatascience.com/the-search-for-categorical-correlation-a1cf7f1888c9)"
   ]
  },
  {
   "cell_type": "code",
   "execution_count": 5,
   "metadata": {},
   "outputs": [
    {
     "name": "stdout",
     "output_type": "stream",
     "text": [
      "0.8386414621724166 0.8386414621724166\n"
     ]
    }
   ],
   "source": [
    "cols_cont = ['loanterm', 'loanamount', 'age']\n",
    "cols_disc = ['checking', 'credithistory', 'loanpurpose',\n",
    "             'savings', 'employmenttime', 'repayrate', 'male', 'otherdebtors', \n",
    "             'residencetime', 'propertystatus', 'otherloans', 'housing', \n",
    "             'ncredits', 'job', 'ndependents', 'telephone', 'foreignworker', 'goodcredit']\n",
    "\n",
    "def normalised_mutual_information(x, y):\n",
    "    \"\"\"mutual information between x and y\"\"\"\n",
    "    p_x = x.value_counts(normalize=True)\n",
    "    p_y = y.value_counts(normalize=True)\n",
    "    p_xy = pd.Series(zip(x,y)).value_counts(normalize=True)\n",
    "    norm = math.sqrt( ss.entropy(p_x) * ss.entropy(p_y)  )\n",
    "    return sum([p * math.log(p / (p_x[xy[0]] * p_y[xy[1]])) for xy, p in p_xy.items()]) / norm\n",
    "\n",
    "def cramers_v(x, y):\n",
    "    contingency_table = pd.crosstab(x,y)\n",
    "    chi2 = ss.chi2_contingency(contingency_table)[0]\n",
    "    n = len(x)\n",
    "    phi2 = chi2 / n\n",
    "    r, k = contingency_table.shape\n",
    "    # Correct for bias\n",
    "    phi2 = max(0, phi2 - ((k-1)*(r-1))/(n-1))\n",
    "    r = r - (r-1)**2 / (n-1)\n",
    "    k = k - (k-1)**2 / (n-1)\n",
    "    return np.sqrt(phi2 / min((k-1),(r-1)))\n",
    "\n",
    "def conditional_entropy(x, y):\n",
    "    \"\"\"entropy of y | x\"\"\"\n",
    "    p_x = x.value_counts(normalize=True)\n",
    "    p_xy = pd.Series(zip(x,y)).value_counts(normalize=True)\n",
    "    return sum([p * math.log(p_x[xy[0]]/p) for  xy, p in p_xy.items()])\n",
    "\n",
    "def proficiency(x, y):\n",
    "    \"\"\"proficiency of y | x\"\"\"\n",
    "    ey = ss.entropy(y.value_counts(normalize=True))\n",
    "    return (ey - conditional_entropy(x, y)) / ey\n",
    "\n",
    "def correlation_ratio(df, cat_col, y_col):\n",
    "    \"\"\"The weighted variance of the category means divided by the variance of all samples\"\"\"\n",
    "    y_mean = df[y_col].mean()\n",
    "    gb = df[[cat_col, y_col]].groupby(cat_col)\n",
    "    cat_means = gb.mean()\n",
    "    cat_nums = gb.count()\n",
    "    return math.sqrt( (cat_nums*(cat_means-y_mean)**2).sum() / ((df[y_col]-y_mean)**2).sum() )\n",
    "\n",
    "test_df = pd.DataFrame({'subject':['a', 'a', 'a', 'a', 'a', \n",
    "                                   'b', 'b', 'b', 'b', \n",
    "                                   'c', 'c', 'c', 'c', 'c', 'c'],\n",
    "                        'score':[45, 70 ,29, 15, 21,\n",
    "                                 40, 20, 30, 42,\n",
    "                                 65, 95, 80, 70, 85, 73]})\n",
    "print(correlation_ratio(test_df, 'subject', 'score'), math.sqrt(678/964))"
   ]
  },
  {
   "cell_type": "code",
   "execution_count": 6,
   "metadata": {},
   "outputs": [
    {
     "data": {
      "image/png": "[encoded data removed]",
      "text/plain": [
       "<Figure size 432x288 with 2 Axes>"
      ]
     },
     "metadata": {
      "needs_background": "light"
     },
     "output_type": "display_data"
    }
   ],
   "source": [
    "ax = sns.heatmap(data[cols_cont].corr())"
   ]
  },
  {
   "cell_type": "code",
   "execution_count": 7,
   "metadata": {},
   "outputs": [
    {
     "data": {
      "image/png": "[encoded data removed]",
      "text/plain": [
       "<Figure size 432x288 with 2 Axes>"
      ]
     },
     "metadata": {
      "needs_background": "light"
     },
     "output_type": "display_data"
    }
   ],
   "source": [
    "mi = pd.DataFrame([[normalised_mutual_information(data[x], data[y]) for x in cols_disc] for y in cols_disc],\n",
    "                  index = cols_disc, columns = cols_disc)\n",
    "ax = sns.heatmap(mi)"
   ]
  },
  {
   "cell_type": "code",
   "execution_count": 8,
   "metadata": {},
   "outputs": [
    {
     "data": {
      "image/png": "[encoded data removed]",
      "text/plain": [
       "<Figure size 432x288 with 2 Axes>"
      ]
     },
     "metadata": {
      "needs_background": "light"
     },
     "output_type": "display_data"
    }
   ],
   "source": [
    "cv = pd.DataFrame([[cramers_v(data[x], data[y]) for x in cols_disc] for y in cols_disc],\n",
    "                  index = cols_disc, columns = cols_disc)\n",
    "ax = sns.heatmap(cv)"
   ]
  },
  {
   "cell_type": "code",
   "execution_count": 9,
   "metadata": {},
   "outputs": [
    {
     "data": {
      "image/png": "[encoded data removed]",
      "text/plain": [
       "<Figure size 432x288 with 2 Axes>"
      ]
     },
     "metadata": {
      "needs_background": "light"
     },
     "output_type": "display_data"
    }
   ],
   "source": [
    "prof = pd.DataFrame([[proficiency(data[x], data[y]) for x in cols_disc] for y in cols_disc],\n",
    "                    index = cols_disc, columns = cols_disc)\n",
    "ax = sns.heatmap(prof)"
   ]
  },
  {
   "cell_type": "code",
   "execution_count": 10,
   "metadata": {},
   "outputs": [
    {
     "data": {
      "image/png": "[encoded data removed]",
      "text/plain": [
       "<Figure size 432x288 with 2 Axes>"
      ]
     },
     "metadata": {
      "needs_background": "light"
     },
     "output_type": "display_data"
    }
   ],
   "source": [
    "cr = pd.DataFrame([[correlation_ratio(data, cat, num) for num in cols_cont] for cat in cols_disc],\n",
    "                    index = cols_disc, columns = cols_cont)\n",
    "ax = sns.heatmap(cr)"
   ]
  },
  {
   "cell_type": "markdown",
   "metadata": {},
   "source": [
    "### 3.3 Pairwise distributions for continuous variables"
   ]
  },
  {
   "cell_type": "code",
   "execution_count": 11,
   "metadata": {},
   "outputs": [
    {
     "data": {
      "image/png": "[encoded data removed]",
      "text/plain": [
       "<Figure size 540x540 with 12 Axes>"
      ]
     },
     "metadata": {
      "needs_background": "light"
     },
     "output_type": "display_data"
    }
   ],
   "source": [
    "ax = sns.pairplot(data[cols_cont])"
   ]
  },
  {
   "cell_type": "markdown",
   "metadata": {},
   "source": [
    "- Not surprising that loan amount and loan term are positively correlated\n",
    "\n",
    "### 3.4 Compare distributions of features for different values of the target variable (good and bad credit risks)\n",
    "\n",
    "First we rename some feature categories so we can read our plots more easily."
   ]
  },
  {
   "cell_type": "code",
   "execution_count": 12,
   "metadata": {},
   "outputs": [
    {
     "data": {
      "image/png": "[encoded data removed]",
      "text/plain": [
       "<Figure size 432x288 with 1 Axes>"
      ]
     },
     "metadata": {
      "needs_background": "light"
     },
     "output_type": "display_data"
    },
    {
     "data": {
      "image/png": "[encoded data removed]",
      "text/plain": [
       "<Figure size 432x288 with 1 Axes>"
      ]
     },
     "metadata": {
      "needs_background": "light"
     },
     "output_type": "display_data"
    },
    {
     "data": {
      "image/png": "[encoded data removed]",
      "text/plain": [
       "<Figure size 432x288 with 1 Axes>"
      ]
     },
     "metadata": {
      "needs_background": "light"
     },
     "output_type": "display_data"
    }
   ],
   "source": [
    "temp_data = data.copy()\n",
    "temp_data.checking.replace(['A11', 'A12', 'A13', 'A14'],\n",
    "                           ['-ve', '<200', '>200', 'none'], inplace=True)\n",
    "temp_data.credithistory.replace(['A30', 'A31', 'A32', 'A33', 'A34'],\n",
    "                              ['none', 'paid', 'on-time', 'late', 'critical'], inplace=True)\n",
    "temp_data.loanpurpose.replace(['A40', 'A41', 'A42', 'A43', 'A44', 'A45', 'A46', 'A48', 'A49', 'A410'],\n",
    "                              ['newcar', 'oldcar', 'furniture', 'tv', 'appliance', 'repair',\n",
    "                               'edu', 'train', 'buss', 'other'], inplace=True)\n",
    "temp_data.savings.replace(['A61', 'A62', 'A63', 'A64', 'A65'],\n",
    "                          ['<100', '<500', '<1000', '>1000', 'none'], inplace=True)\n",
    "temp_data.employmenttime.replace(['A71', 'A72', 'A73', 'A74', 'A75'],\n",
    "                                 ['0', '<1', '<4', '<7', '>7'], inplace=True)\n",
    "#temp_data.personalsex.replace(['A91', 'A92', 'A93', 'A94'],\n",
    "#                              ['mdiv', 'fdivmar', 'msin', 'mmarwid'], inplace=True)\n",
    "temp_data.otherdebtors.replace(['A101', 'A102', 'A103'],\n",
    "                               ['none', 'joint', 'guar'], inplace=True)\n",
    "temp_data.propertystatus.replace(['A121', 'A122', 'A123', 'A124'],\n",
    "                                 ['property', 'savings', 'car', 'none'], inplace=True)\n",
    "temp_data.otherloans.replace(['A141', 'A142', 'A143'],\n",
    "                             ['bank', 'store', 'none'], inplace=True)\n",
    "temp_data.housing.replace(['A151', 'A152', 'A153'],\n",
    "                          ['rent', 'own', 'free'], inplace=True)\n",
    "temp_data.job.replace(['A171', 'A172', 'A173', 'A174'],\n",
    "                      ['none', 'unskilled', 'skilled', 'manager'], inplace=True)\n",
    "\n",
    "accept = temp_data[data['goodcredit']==1]\n",
    "reject = temp_data[data['goodcredit']==0]\n",
    "\n",
    "def compare_distributions_continuous(accept, reject, var_name, accept_label, reject_label):\n",
    "    ax = sns.distplot(accept[var_name], label=accept_label)\n",
    "    ax = sns.distplot(reject[var_name], label=reject_label)\n",
    "    ax.set_title(var_name)\n",
    "    plt.legend()\n",
    "    plt.show()\n",
    "    \n",
    "for col in cols_cont:\n",
    "    compare_distributions_continuous(accept, reject, col, 'good credit', 'bad credit')"
   ]
  },
  {
   "cell_type": "markdown",
   "metadata": {},
   "source": [
    "### 3.5 Comments\n",
    "\n",
    "- We see the kinds of spikes we might reasonably expect for loan terms at 3, 6 and 12 month intervals\n",
    "- Loan amount distributions has fatter tails for bad credit risk (there are more very small or very large loan amounts)\n",
    "- Good credit risks are older"
   ]
  },
  {
   "cell_type": "code",
   "execution_count": 13,
   "metadata": {},
   "outputs": [],
   "source": [
    "data = data.rename(columns={'age': 'age>=30'})\n",
    "data['age>=30'] = data['age>=30']>=30\n",
    "data['age>=30']=data['age>=30'].astype(int)\n",
    "\n",
    "cols_cont = ['loanterm', 'loanamount']\n",
    "cols_disc = ['checking', 'credithistory', 'loanpurpose',\n",
    "             'savings', 'employmenttime', 'repayrate', 'male', 'otherdebtors', \n",
    "             'residencetime', 'age>=30', 'propertystatus', 'otherloans', 'housing', \n",
    "             'ncredits', 'job', 'ndependents', 'telephone', 'foreignworker', 'goodcredit']\n",
    "\n",
    "temp_data = temp_data.rename(columns={'age': 'age>=30'})\n",
    "temp_data['age>=30'] = data['age>=30']\n",
    "\n",
    "accept = temp_data[data['goodcredit']==1]\n",
    "reject = temp_data[data['goodcredit']==0]"
   ]
  },
  {
   "cell_type": "code",
   "execution_count": 14,
   "metadata": {
    "scrolled": true
   },
   "outputs": [
    {
     "data": {
      "image/png": "[encoded data removed]",
      "text/plain": [
       "<Figure size 432x288 with 1 Axes>"
      ]
     },
     "metadata": {
      "needs_background": "light"
     },
     "output_type": "display_data"
    },
    {
     "data": {
      "image/png": "[encoded data removed]",
      "text/plain": [
       "<Figure size 432x288 with 1 Axes>"
      ]
     },
     "metadata": {
      "needs_background": "light"
     },
     "output_type": "display_data"
    },
    {
     "data": {
      "image/png": "[encoded data removed]",
      "text/plain": [
       "<Figure size 432x288 with 1 Axes>"
      ]
     },
     "metadata": {
      "needs_background": "light"
     },
     "output_type": "display_data"
    },
    {
     "data": {
      "image/png": "[encoded data removed]",
      "text/plain": [
       "<Figure size 432x288 with 1 Axes>"
      ]
     },
     "metadata": {
      "needs_background": "light"
     },
     "output_type": "display_data"
    },
    {
     "data": {
      "image/png": "[encoded data removed]",
      "text/plain": [
       "<Figure size 432x288 with 1 Axes>"
      ]
     },
     "metadata": {
      "needs_background": "light"
     },
     "output_type": "display_data"
    },
    {
     "data": {
      "image/png": "[encoded data removed]",
      "text/plain": [
       "<Figure size 432x288 with 1 Axes>"
      ]
     },
     "metadata": {
      "needs_background": "light"
     },
     "output_type": "display_data"
    },
    {
     "data": {
      "image/png": "[encoded data removed]",
      "text/plain": [
       "<Figure size 432x288 with 1 Axes>"
      ]
     },
     "metadata": {
      "needs_background": "light"
     },
     "output_type": "display_data"
    },
    {
     "data": {
      "image/png": "[encoded data removed]",
      "text/plain": [
       "<Figure size 432x288 with 1 Axes>"
      ]
     },
     "metadata": {
      "needs_background": "light"
     },
     "output_type": "display_data"
    },
    {
     "data": {
      "image/png": "[encoded data removed]",
      "text/plain": [
       "<Figure size 432x288 with 1 Axes>"
      ]
     },
     "metadata": {
      "needs_background": "light"
     },
     "output_type": "display_data"
    },
    {
     "data": {
      "image/png": "[encoded data removed]",
      "text/plain": [
       "<Figure size 432x288 with 1 Axes>"
      ]
     },
     "metadata": {
      "needs_background": "light"
     },
     "output_type": "display_data"
    },
    {
     "data": {
      "image/png": "[encoded data removed]",
      "text/plain": [
       "<Figure size 432x288 with 1 Axes>"
      ]
     },
     "metadata": {
      "needs_background": "light"
     },
     "output_type": "display_data"
    },
    {
     "data": {
      "image/png": "[encoded data removed]",
      "text/plain": [
       "<Figure size 432x288 with 1 Axes>"
      ]
     },
     "metadata": {
      "needs_background": "light"
     },
     "output_type": "display_data"
    },
    {
     "data": {
      "image/png": "[encoded data removed]",
      "text/plain": [
       "<Figure size 432x288 with 1 Axes>"
      ]
     },
     "metadata": {
      "needs_background": "light"
     },
     "output_type": "display_data"
    },
    {
     "data": {
      "image/png": "[encoded data removed]",
      "text/plain": [
       "<Figure size 432x288 with 1 Axes>"
      ]
     },
     "metadata": {
      "needs_background": "light"
     },
     "output_type": "display_data"
    },
    {
     "data": {
      "image/png": "[encoded data removed]",
      "text/plain": [
       "<Figure size 432x288 with 1 Axes>"
      ]
     },
     "metadata": {
      "needs_background": "light"
     },
     "output_type": "display_data"
    },
    {
     "data": {
      "image/png": "[encoded data removed]",
      "text/plain": [
       "<Figure size 432x288 with 1 Axes>"
      ]
     },
     "metadata": {
      "needs_background": "light"
     },
     "output_type": "display_data"
    },
    {
     "data": {
      "image/png": "[encoded data removed]",
      "text/plain": [
       "<Figure size 432x288 with 1 Axes>"
      ]
     },
     "metadata": {
      "needs_background": "light"
     },
     "output_type": "display_data"
    },
    {
     "data": {
      "image/png": "[encoded data removed]",
      "text/plain": [
       "<Figure size 432x288 with 1 Axes>"
      ]
     },
     "metadata": {
      "needs_background": "light"
     },
     "output_type": "display_data"
    }
   ],
   "source": [
    "def compare_distributions_discrete(accept, reject, var_name, accept_label, reject_label, normalize):\n",
    "    dist_df = pd.concat([pd.Series(accept[var_name].value_counts(normalize=normalize), name=accept_label),\n",
    "                         pd.Series(reject[var_name].value_counts(normalize=normalize), name=reject_label )],\n",
    "                        axis=1)\n",
    "    ax = dist_df.plot.bar()\n",
    "    ax.set_title(var_name)\n",
    "\n",
    "for col in cols_disc[:-1]:\n",
    "    compare_distributions_discrete(accept, reject, col, 'good credit', 'bad credit', True)"
   ]
  },
  {
   "cell_type": "markdown",
   "metadata": {},
   "source": [
    "### 3.6 Comments\n",
    "\n",
    "- ```checking``` 'no checking account' is good\n",
    "- ```credithistory``` 'critical account/ other credits existing (not at this bank)' in credit history seems to be good\n",
    "- ```loanpurpose```\n",
    "  - buying a tv is good but other appliances not so much\n",
    "  - old car better than new\n",
    "- ```savings``` having savings is good\n",
    "- ```employmenttime``` having worked for longer is better\n",
    "- ```repayrate``` repaying instalments that are a smaller proportion of your disposable income is better\n",
    "- ```personalsex``` men (single/married/widowed) are considered better credit risks\n",
    "- ```male``` men are considered better credit risks\n",
    "- ```otherdebtors``` applicants with guarantors are lower risk than those with co-applicants\n",
    "- ```residencetime``` doesn't seem to matter a great deal\n",
    "- ```propertystatus``` having property correlates with good credit\n",
    "- ```otherloans``` having no other loans is good\n",
    "- ```housing``` owning property is good\n",
    "- ```ncredits``` having other credits at the bank is good\n",
    "- ```job``` skilled and unskilled workers present better credit risks\n",
    "- ```ndependents``` doesn't seem to matter\n",
    "- ```telephone``` having one is good\n",
    "- ```foreignworker``` not being foreign seems to be better\n",
    "\n",
    "## 4 Measure bias in data\n",
    "\n",
    "### 4.1 Get data into the right format"
   ]
  },
  {
   "cell_type": "code",
   "execution_count": 15,
   "metadata": {},
   "outputs": [
    {
     "name": "stdout",
     "output_type": "stream",
     "text": [
      "shape: (1000, 47)\n"
     ]
    }
   ],
   "source": [
    "data_df = pd.get_dummies(data, drop_first=True)\n",
    "print('shape:', data_df.shape)\n",
    "\n",
    "target = 'goodcredit'\n",
    "features = list(data_df.columns)\n",
    "features.remove(target)\n",
    "\n",
    "#data.drop(['checking_A14', 'credithistory_A30', 'loanpurpose_A410', 'savings_A65', 'employmenttime_A71',\n",
    "#           'otherdebtors_A101', 'propertystatus_A124', 'otherloans_A143', 'housing_A153', 'job_A171'])\n",
    "\n",
    "outcomes_df = pd.DataFrame(columns=['female', 'male',\n",
    "                                    'difference', 'ratio'],\n",
    "                           index=['data', 'model',\n",
    "                                  'train data', 'train model',\n",
    "                                  'test data', 'test model'])"
   ]
  },
  {
   "cell_type": "markdown",
   "metadata": {},
   "source": [
    "### 4.2 Calculate independence fairness metrics on the full dataset"
   ]
  },
  {
   "cell_type": "code",
   "execution_count": 16,
   "metadata": {},
   "outputs": [
    {
     "data": {
      "text/html": [
       "<div>\n",
       "<style scoped>\n",
       "    .dataframe tbody tr th:only-of-type {\n",
       "        vertical-align: middle;\n",
       "    }\n",
       "\n",
       "    .dataframe tbody tr th {\n",
       "        vertical-align: top;\n",
       "    }\n",
       "\n",
       "    .dataframe thead th {\n",
       "        text-align: right;\n",
       "    }\n",
       "</style>\n",
       "<table border=\"1\" class=\"dataframe\">\n",
       "  <thead>\n",
       "    <tr style=\"text-align: right;\">\n",
       "      <th></th>\n",
       "      <th>female</th>\n",
       "      <th>male</th>\n",
       "      <th>difference</th>\n",
       "      <th>ratio</th>\n",
       "    </tr>\n",
       "  </thead>\n",
       "  <tbody>\n",
       "    <tr>\n",
       "      <th>data</th>\n",
       "      <td>0.648387</td>\n",
       "      <td>0.723188</td>\n",
       "      <td>-0.0748013</td>\n",
       "      <td>0.896567</td>\n",
       "    </tr>\n",
       "    <tr>\n",
       "      <th>model</th>\n",
       "      <td>NaN</td>\n",
       "      <td>NaN</td>\n",
       "      <td>NaN</td>\n",
       "      <td>NaN</td>\n",
       "    </tr>\n",
       "    <tr>\n",
       "      <th>train data</th>\n",
       "      <td>NaN</td>\n",
       "      <td>NaN</td>\n",
       "      <td>NaN</td>\n",
       "      <td>NaN</td>\n",
       "    </tr>\n",
       "    <tr>\n",
       "      <th>train model</th>\n",
       "      <td>NaN</td>\n",
       "      <td>NaN</td>\n",
       "      <td>NaN</td>\n",
       "      <td>NaN</td>\n",
       "    </tr>\n",
       "    <tr>\n",
       "      <th>test data</th>\n",
       "      <td>NaN</td>\n",
       "      <td>NaN</td>\n",
       "      <td>NaN</td>\n",
       "      <td>NaN</td>\n",
       "    </tr>\n",
       "    <tr>\n",
       "      <th>test model</th>\n",
       "      <td>NaN</td>\n",
       "      <td>NaN</td>\n",
       "      <td>NaN</td>\n",
       "      <td>NaN</td>\n",
       "    </tr>\n",
       "  </tbody>\n",
       "</table>\n",
       "</div>"
      ],
      "text/plain": [
       "               female      male difference     ratio\n",
       "data         0.648387  0.723188 -0.0748013  0.896567\n",
       "model             NaN       NaN        NaN       NaN\n",
       "train data        NaN       NaN        NaN       NaN\n",
       "train model       NaN       NaN        NaN       NaN\n",
       "test data         NaN       NaN        NaN       NaN\n",
       "test model        NaN       NaN        NaN       NaN"
      ]
     },
     "metadata": {},
     "output_type": "display_data"
    }
   ],
   "source": [
    "privileged_groups = [{'male':1}]\n",
    "unprivileged_groups = [{'male':0}]\n",
    "\n",
    "data_ds = BinaryLabelDataset(df = data_df,\n",
    "                             label_names = ['goodcredit'],\n",
    "                             protected_attribute_names = ['male'])\n",
    "\n",
    "data_metric = BinaryLabelDatasetMetric(data_ds,\n",
    "                                       privileged_groups = privileged_groups,\n",
    "                                       unprivileged_groups = unprivileged_groups)\n",
    "\n",
    "outcomes_df.at['data', 'female'    ] = data_metric.base_rate(privileged=0)\n",
    "outcomes_df.at['data', 'male'      ] = data_metric.base_rate(privileged=1)\n",
    "outcomes_df.at['data', 'difference'] = data_metric.mean_difference()\n",
    "outcomes_df.at['data', 'ratio'     ] = data_metric.disparate_impact()\n",
    "\n",
    "display(outcomes_df)"
   ]
  },
  {
   "cell_type": "code",
   "execution_count": 17,
   "metadata": {},
   "outputs": [
    {
     "data": {
      "text/html": [
       "<div>\n",
       "<style scoped>\n",
       "    .dataframe tbody tr th:only-of-type {\n",
       "        vertical-align: middle;\n",
       "    }\n",
       "\n",
       "    .dataframe tbody tr th {\n",
       "        vertical-align: top;\n",
       "    }\n",
       "\n",
       "    .dataframe thead th {\n",
       "        text-align: right;\n",
       "    }\n",
       "</style>\n",
       "<table border=\"1\" class=\"dataframe\">\n",
       "  <thead>\n",
       "    <tr style=\"text-align: right;\">\n",
       "      <th></th>\n",
       "      <th>goodcredit</th>\n",
       "    </tr>\n",
       "    <tr>\n",
       "      <th>male</th>\n",
       "      <th></th>\n",
       "    </tr>\n",
       "  </thead>\n",
       "  <tbody>\n",
       "    <tr>\n",
       "      <th>0</th>\n",
       "      <td>0.648387</td>\n",
       "    </tr>\n",
       "    <tr>\n",
       "      <th>1</th>\n",
       "      <td>0.723188</td>\n",
       "    </tr>\n",
       "  </tbody>\n",
       "</table>\n",
       "</div>"
      ],
      "text/plain": [
       "      goodcredit\n",
       "male            \n",
       "0       0.648387\n",
       "1       0.723188"
      ]
     },
     "metadata": {},
     "output_type": "display_data"
    },
    {
     "name": "stdout",
     "output_type": "stream",
     "text": [
      "difference: -0.07480130902290782\n",
      "ratio: 0.8965673282047968\n"
     ]
    }
   ],
   "source": [
    "# Quick check we did it right\n",
    "probs = data_df[['male', 'goodcredit']].groupby('male').mean()\n",
    "display(probs)\n",
    "print('difference:', probs.goodcredit[0] - probs.goodcredit[1])\n",
    "print('ratio:', probs.goodcredit[0] / probs.goodcredit[1])"
   ]
  },
  {
   "cell_type": "markdown",
   "metadata": {},
   "source": [
    "### 4.3 Comments\n",
    "\n",
    "According to the data:\n",
    "- 64.8% of women have a good credit rating\n",
    "- 72.3% of men have a good credit rating\n",
    "- the difference is 7.5%\n",
    "- the ratio is 89.7%\n",
    "\n",
    "**Note:** AIF360 has implemented [mean_difference](https://aif360.readthedocs.io/en/latest/modules/generated/aif360.metrics.BinaryLabelDatasetMetric.html#aif360.metrics.BinaryLabelDatasetMetric.mean_difference) as the probability of a positive outcome for the unprivileged group minus that for the privileged group hence we find the value is negative.\n",
    "\n",
    "### 4.4 Exercise: Calculate independence metrics for multiple protected groups on the full dataset"
   ]
  },
  {
   "cell_type": "code",
   "execution_count": 18,
   "metadata": {},
   "outputs": [
    {
     "name": "stdout",
     "output_type": "stream",
     "text": [
      "0.6568627450980392\n",
      "0.7448979591836735\n",
      "-0.0880352140856343\n",
      "0.8818157399946279\n"
     ]
    }
   ],
   "source": [
    "privileged2_groups = [{'male':1, 'age>=30':1}]\n",
    "unprivileged2_groups = [{'male':0}, {'age>=30':0}]\n",
    "\n",
    "data2_ds = BinaryLabelDataset(df = data_df,\n",
    "                              label_names = ['goodcredit'],\n",
    "                              protected_attribute_names = ['male', 'age>=30'])\n",
    "\n",
    "data2_metric = BinaryLabelDatasetMetric(data2_ds,\n",
    "                                        privileged_groups = privileged2_groups,\n",
    "                                        unprivileged_groups = unprivileged2_groups)\n",
    "\n",
    "print(data2_metric.base_rate(privileged=0))\n",
    "print(data2_metric.base_rate(privileged=1))\n",
    "print(data2_metric.mean_difference())\n",
    "print(data2_metric.disparate_impact())"
   ]
  },
  {
   "cell_type": "code",
   "execution_count": 19,
   "metadata": {},
   "outputs": [
    {
     "data": {
      "text/html": [
       "<div>\n",
       "<style scoped>\n",
       "    .dataframe tbody tr th:only-of-type {\n",
       "        vertical-align: middle;\n",
       "    }\n",
       "\n",
       "    .dataframe tbody tr th {\n",
       "        vertical-align: top;\n",
       "    }\n",
       "\n",
       "    .dataframe thead th {\n",
       "        text-align: right;\n",
       "    }\n",
       "</style>\n",
       "<table border=\"1\" class=\"dataframe\">\n",
       "  <thead>\n",
       "    <tr style=\"text-align: right;\">\n",
       "      <th></th>\n",
       "      <th>goodcredit</th>\n",
       "    </tr>\n",
       "    <tr>\n",
       "      <th>priv</th>\n",
       "      <th></th>\n",
       "    </tr>\n",
       "  </thead>\n",
       "  <tbody>\n",
       "    <tr>\n",
       "      <th>False</th>\n",
       "      <td>0.656863</td>\n",
       "    </tr>\n",
       "    <tr>\n",
       "      <th>True</th>\n",
       "      <td>0.744898</td>\n",
       "    </tr>\n",
       "  </tbody>\n",
       "</table>\n",
       "</div>"
      ],
      "text/plain": [
       "       goodcredit\n",
       "priv             \n",
       "False    0.656863\n",
       "True     0.744898"
      ]
     },
     "metadata": {},
     "output_type": "display_data"
    },
    {
     "name": "stdout",
     "output_type": "stream",
     "text": [
      "difference: -0.0880352140856343\n",
      "ratio: 0.8818157399946279\n"
     ]
    }
   ],
   "source": [
    "# Quick check we did it right\n",
    "temp = pd.DataFrame(columns=['priv', 'goodcredit'])\n",
    "temp['priv'] = np.logical_and(data_df['male'], data_df['age>=30'])\n",
    "temp['goodcredit'] = data_df['goodcredit']\n",
    "\n",
    "probs = temp[['priv', 'goodcredit']].groupby('priv').mean()\n",
    "display(probs)\n",
    "print('difference:', probs.goodcredit[0] - probs.goodcredit[1])\n",
    "print('ratio:', probs.goodcredit[0] / probs.goodcredit[1])"
   ]
  },
  {
   "cell_type": "code",
   "execution_count": 20,
   "metadata": {},
   "outputs": [
    {
     "name": "stdout",
     "output_type": "stream",
     "text": [
      "0.5847953216374269\n",
      "0.7448979591836735\n",
      "-0.16010263754624665\n",
      "0.7850676920612032\n"
     ]
    }
   ],
   "source": [
    "unprivileged2_groups = [{'male':0, 'age>=30':0}]\n",
    "\n",
    "data2_metric = BinaryLabelDatasetMetric(data2_ds,\n",
    "                                        privileged_groups = privileged2_groups,\n",
    "                                        unprivileged_groups = unprivileged2_groups)\n",
    "\n",
    "print(data2_metric.base_rate(privileged=0))\n",
    "print(data2_metric.base_rate(privileged=1))\n",
    "print(data2_metric.mean_difference())\n",
    "print(data2_metric.disparate_impact())"
   ]
  },
  {
   "cell_type": "code",
   "execution_count": 21,
   "metadata": {},
   "outputs": [
    {
     "data": {
      "text/html": [
       "<div>\n",
       "<style scoped>\n",
       "    .dataframe tbody tr th:only-of-type {\n",
       "        vertical-align: middle;\n",
       "    }\n",
       "\n",
       "    .dataframe tbody tr th {\n",
       "        vertical-align: top;\n",
       "    }\n",
       "\n",
       "    .dataframe thead th {\n",
       "        text-align: right;\n",
       "    }\n",
       "</style>\n",
       "<table border=\"1\" class=\"dataframe\">\n",
       "  <thead>\n",
       "    <tr style=\"text-align: right;\">\n",
       "      <th></th>\n",
       "      <th>goodcredit</th>\n",
       "    </tr>\n",
       "    <tr>\n",
       "      <th>priv</th>\n",
       "      <th></th>\n",
       "    </tr>\n",
       "  </thead>\n",
       "  <tbody>\n",
       "    <tr>\n",
       "      <th>False</th>\n",
       "      <td>0.584795</td>\n",
       "    </tr>\n",
       "    <tr>\n",
       "      <th>True</th>\n",
       "      <td>0.723764</td>\n",
       "    </tr>\n",
       "  </tbody>\n",
       "</table>\n",
       "</div>"
      ],
      "text/plain": [
       "       goodcredit\n",
       "priv             \n",
       "False    0.584795\n",
       "True     0.723764"
      ]
     },
     "metadata": {},
     "output_type": "display_data"
    }
   ],
   "source": [
    "# Quick check we did it right\n",
    "temp = pd.DataFrame(columns=['priv', 'goodcredit'])\n",
    "temp['priv'] = np.logical_or(data_df['male'], data_df['age>=30'])\n",
    "temp['goodcredit']=data_df['goodcredit']\n",
    "\n",
    "probs = temp[['priv', 'goodcredit']].groupby('priv').mean()\n",
    "display(probs)"
   ]
  },
  {
   "cell_type": "markdown",
   "metadata": {},
   "source": [
    "### 4.5 Exercise: Calculate the individual fairness metric consistency for the full dataset"
   ]
  },
  {
   "cell_type": "code",
   "execution_count": 22,
   "metadata": {},
   "outputs": [
    {
     "name": "stderr",
     "output_type": "stream",
     "text": [
      "/Users/leenamurgai/anaconda3/envs/aif360lm/lib/python3.7/site-packages/sklearn/utils/validation.py:70: FutureWarning: Pass n_neighbors=5 as keyword args. From version 0.25 passing these as positional arguments will result in an error\n",
      "  FutureWarning)\n",
      "/Users/leenamurgai/anaconda3/envs/aif360lm/lib/python3.7/site-packages/sklearn/utils/validation.py:70: FutureWarning: Pass n_neighbors=5 as keyword args. From version 0.25 passing these as positional arguments will result in an error\n",
      "  FutureWarning)\n"
     ]
    },
    {
     "data": {
      "text/html": [
       "<div>\n",
       "<style scoped>\n",
       "    .dataframe tbody tr th:only-of-type {\n",
       "        vertical-align: middle;\n",
       "    }\n",
       "\n",
       "    .dataframe tbody tr th {\n",
       "        vertical-align: top;\n",
       "    }\n",
       "\n",
       "    .dataframe thead th {\n",
       "        text-align: right;\n",
       "    }\n",
       "</style>\n",
       "<table border=\"1\" class=\"dataframe\">\n",
       "  <thead>\n",
       "    <tr style=\"text-align: right;\">\n",
       "      <th></th>\n",
       "      <th>original</th>\n",
       "      <th>ignore_protected</th>\n",
       "    </tr>\n",
       "  </thead>\n",
       "  <tbody>\n",
       "    <tr>\n",
       "      <th>data</th>\n",
       "      <td>0.6814</td>\n",
       "      <td>0.6812</td>\n",
       "    </tr>\n",
       "    <tr>\n",
       "      <th>model</th>\n",
       "      <td>NaN</td>\n",
       "      <td>NaN</td>\n",
       "    </tr>\n",
       "    <tr>\n",
       "      <th>train data</th>\n",
       "      <td>NaN</td>\n",
       "      <td>NaN</td>\n",
       "    </tr>\n",
       "    <tr>\n",
       "      <th>train model</th>\n",
       "      <td>NaN</td>\n",
       "      <td>NaN</td>\n",
       "    </tr>\n",
       "    <tr>\n",
       "      <th>test data</th>\n",
       "      <td>NaN</td>\n",
       "      <td>NaN</td>\n",
       "    </tr>\n",
       "    <tr>\n",
       "      <th>test model</th>\n",
       "      <td>NaN</td>\n",
       "      <td>NaN</td>\n",
       "    </tr>\n",
       "  </tbody>\n",
       "</table>\n",
       "</div>"
      ],
      "text/plain": [
       "             original  ignore_protected\n",
       "data           0.6814            0.6812\n",
       "model             NaN               NaN\n",
       "train data        NaN               NaN\n",
       "train model       NaN               NaN\n",
       "test data         NaN               NaN\n",
       "test model        NaN               NaN"
      ]
     },
     "metadata": {},
     "output_type": "display_data"
    }
   ],
   "source": [
    "consistency = pd.DataFrame(columns=['original', 'ignore_protected'],\n",
    "                           index=['data', 'model',\n",
    "                                  'train data', 'train model',\n",
    "                                 'test data', 'test model'], dtype='float64')\n",
    "consistency.at['data', 'original'] = data_metric.consistency()\n",
    "consistency.at['data', 'ignore_protected'] = data_metric.consistency(ignore_protected=True)\n",
    "display(consistency)"
   ]
  },
  {
   "cell_type": "markdown",
   "metadata": {},
   "source": [
    "## 5 Train a gradient boosting classifier on the data\n",
    "\n",
    "### 5.1 Split training and testing data"
   ]
  },
  {
   "cell_type": "code",
   "execution_count": 23,
   "metadata": {},
   "outputs": [
    {
     "name": "stdout",
     "output_type": "stream",
     "text": [
      "n_train = 800 , n_test = 200\n"
     ]
    }
   ],
   "source": [
    "X = data_df[features]\n",
    "y = data_df[target]\n",
    "\n",
    "X_train, X_test, y_train, y_test = train_test_split(X, y, test_size=0.2, stratify=y, random_state=101)\n",
    "\n",
    "#scaler     = StandardScaler().fit(X.astype(float)) # scale based on X\n",
    "#scale_func = lambda df, scaler: pd.DataFrame(scaler.transform(df), columns=df.columns, index=df.index)\n",
    "#X_train    = scale_func(X_train.astype(float), scaler)\n",
    "#X_test     = scale_func(X_test.astype(float), scaler)\n",
    "\n",
    "n_train, n_test = y_train.shape[0], y_test.shape[0]\n",
    "print('n_train =', n_train, ', n_test =', n_test)"
   ]
  },
  {
   "cell_type": "code",
   "execution_count": 24,
   "metadata": {},
   "outputs": [],
   "source": [
    "def compare_lines(x, x_label, y_label, lines, labels=['train','test'],\n",
    "                  title=None, filename=None):\n",
    "    \"\"\"\n",
    "    Plot training and test values as a function of x.\n",
    "    \"\"\"\n",
    "    if len(lines)!=len(labels):\n",
    "        print('lines and labels should have the same dimensions')\n",
    "    plt.rcParams.update({'font.size': 16})\n",
    "    plt.figure()\n",
    "    if title:\n",
    "        plt.title(title)\n",
    "    for line, label in zip(lines, labels):\n",
    "        plt.plot(x, line, lw=2, label = label)\n",
    "    plt.legend()\n",
    "    plt.xlabel(x_label)\n",
    "    plt.ylabel(y_label)\n",
    "    plt.tight_layout()\n",
    "    if filename:\n",
    "        plt.savefig('mbml_figures/Fig_'+filename+'.png')\n",
    "    plt.show()"
   ]
  },
  {
   "cell_type": "markdown",
   "metadata": {},
   "source": [
    "**Cost matrix:**\n",
    "```\n",
    "                  |      y     |\n",
    "                  | good | bad |\n",
    "                  |  1   |  0  |\n",
    "| y_pred | good |1|  0   |  5  |\n",
    "|        |  bad |0|  1   |  0  |\n",
    "```"
   ]
  },
  {
   "cell_type": "code",
   "execution_count": 25,
   "metadata": {},
   "outputs": [
    {
     "name": "stdout",
     "output_type": "stream",
     "text": [
      "cost check:   867\n",
      "score check:  -867\n"
     ]
    }
   ],
   "source": [
    "def cost(y_true, y_pred):\n",
    "    return np.sum(np.logical_and(y_true, np.logical_not(y_pred)) + 5*np.logical_and(np.logical_not(y_true), y_pred))\n",
    "\n",
    "cost_score = make_scorer(cost, greater_is_better=False)\n",
    "\n",
    "# Quick check behaviour is as expected\n",
    "clf = DecisionTreeClassifier(max_depth=4)\n",
    "clf.fit(X,y)\n",
    "print('cost check:  ', cost(y, clf.predict(X)))\n",
    "print('score check: ', cost_score(clf, X, y))"
   ]
  },
  {
   "cell_type": "markdown",
   "metadata": {},
   "source": [
    "### 5.2 Find the best parameters for the model"
   ]
  },
  {
   "cell_type": "code",
   "execution_count": 26,
   "metadata": {},
   "outputs": [
    {
     "name": "stdout",
     "output_type": "stream",
     "text": [
      "0.720 (+/-0.038) for {'max_depth': 3, 'max_features': 'auto', 'min_samples_leaf': 10}\n",
      "0.733 (+/-0.050) for {'max_depth': 3, 'max_features': 'auto', 'min_samples_leaf': 20}\n",
      "0.719 (+/-0.018) for {'max_depth': 3, 'max_features': 'auto', 'min_samples_leaf': 50}\n",
      "0.722 (+/-0.054) for {'max_depth': 3, 'max_features': 'sqrt', 'min_samples_leaf': 10}\n",
      "0.726 (+/-0.082) for {'max_depth': 3, 'max_features': 'sqrt', 'min_samples_leaf': 20}\n",
      "0.720 (+/-0.046) for {'max_depth': 3, 'max_features': 'sqrt', 'min_samples_leaf': 50}\n",
      "0.733 (+/-0.038) for {'max_depth': 3, 'max_features': 'log2', 'min_samples_leaf': 10}\n",
      "0.741 (+/-0.071) for {'max_depth': 3, 'max_features': 'log2', 'min_samples_leaf': 20}\n",
      "0.718 (+/-0.046) for {'max_depth': 3, 'max_features': 'log2', 'min_samples_leaf': 50}\n",
      "0.722 (+/-0.034) for {'max_depth': 4, 'max_features': 'auto', 'min_samples_leaf': 10}\n",
      "0.734 (+/-0.047) for {'max_depth': 4, 'max_features': 'auto', 'min_samples_leaf': 20}\n",
      "0.728 (+/-0.047) for {'max_depth': 4, 'max_features': 'auto', 'min_samples_leaf': 50}\n",
      "0.747 (+/-0.052) for {'max_depth': 4, 'max_features': 'sqrt', 'min_samples_leaf': 10}\n",
      "0.740 (+/-0.048) for {'max_depth': 4, 'max_features': 'sqrt', 'min_samples_leaf': 20}\n",
      "0.720 (+/-0.020) for {'max_depth': 4, 'max_features': 'sqrt', 'min_samples_leaf': 50}\n",
      "0.749 (+/-0.053) for {'max_depth': 4, 'max_features': 'log2', 'min_samples_leaf': 10}\n",
      "0.744 (+/-0.060) for {'max_depth': 4, 'max_features': 'log2', 'min_samples_leaf': 20}\n",
      "0.721 (+/-0.041) for {'max_depth': 4, 'max_features': 'log2', 'min_samples_leaf': 50}\n",
      "0.718 (+/-0.015) for {'max_depth': 5, 'max_features': 'auto', 'min_samples_leaf': 10}\n",
      "0.746 (+/-0.038) for {'max_depth': 5, 'max_features': 'auto', 'min_samples_leaf': 20}\n",
      "0.714 (+/-0.032) for {'max_depth': 5, 'max_features': 'auto', 'min_samples_leaf': 50}\n",
      "0.747 (+/-0.044) for {'max_depth': 5, 'max_features': 'sqrt', 'min_samples_leaf': 10}\n",
      "0.745 (+/-0.062) for {'max_depth': 5, 'max_features': 'sqrt', 'min_samples_leaf': 20}\n",
      "0.731 (+/-0.036) for {'max_depth': 5, 'max_features': 'sqrt', 'min_samples_leaf': 50}\n",
      "0.749 (+/-0.032) for {'max_depth': 5, 'max_features': 'log2', 'min_samples_leaf': 10}\n",
      "0.731 (+/-0.038) for {'max_depth': 5, 'max_features': 'log2', 'min_samples_leaf': 20}\n",
      "0.720 (+/-0.041) for {'max_depth': 5, 'max_features': 'log2', 'min_samples_leaf': 50}\n",
      "0.734 (+/-0.038) for {'max_depth': 6, 'max_features': 'auto', 'min_samples_leaf': 10}\n",
      "0.739 (+/-0.041) for {'max_depth': 6, 'max_features': 'auto', 'min_samples_leaf': 20}\n",
      "0.721 (+/-0.020) for {'max_depth': 6, 'max_features': 'auto', 'min_samples_leaf': 50}\n",
      "0.755 (+/-0.046) for {'max_depth': 6, 'max_features': 'sqrt', 'min_samples_leaf': 10}\n",
      "0.741 (+/-0.048) for {'max_depth': 6, 'max_features': 'sqrt', 'min_samples_leaf': 20}\n",
      "0.724 (+/-0.017) for {'max_depth': 6, 'max_features': 'sqrt', 'min_samples_leaf': 50}\n",
      "0.743 (+/-0.054) for {'max_depth': 6, 'max_features': 'log2', 'min_samples_leaf': 10}\n",
      "0.734 (+/-0.052) for {'max_depth': 6, 'max_features': 'log2', 'min_samples_leaf': 20}\n",
      "0.721 (+/-0.047) for {'max_depth': 6, 'max_features': 'log2', 'min_samples_leaf': 50}\n",
      "0.726 (+/-0.053) for {'max_depth': 7, 'max_features': 'auto', 'min_samples_leaf': 10}\n",
      "0.741 (+/-0.041) for {'max_depth': 7, 'max_features': 'auto', 'min_samples_leaf': 20}\n",
      "0.716 (+/-0.034) for {'max_depth': 7, 'max_features': 'auto', 'min_samples_leaf': 50}\n",
      "0.747 (+/-0.062) for {'max_depth': 7, 'max_features': 'sqrt', 'min_samples_leaf': 10}\n",
      "0.745 (+/-0.058) for {'max_depth': 7, 'max_features': 'sqrt', 'min_samples_leaf': 20}\n",
      "0.724 (+/-0.024) for {'max_depth': 7, 'max_features': 'sqrt', 'min_samples_leaf': 50}\n",
      "0.749 (+/-0.046) for {'max_depth': 7, 'max_features': 'log2', 'min_samples_leaf': 10}\n",
      "0.733 (+/-0.029) for {'max_depth': 7, 'max_features': 'log2', 'min_samples_leaf': 20}\n",
      "0.726 (+/-0.051) for {'max_depth': 7, 'max_features': 'log2', 'min_samples_leaf': 50}\n",
      "0.728 (+/-0.020) for {'max_depth': 8, 'max_features': 'auto', 'min_samples_leaf': 10}\n",
      "0.749 (+/-0.033) for {'max_depth': 8, 'max_features': 'auto', 'min_samples_leaf': 20}\n",
      "0.716 (+/-0.026) for {'max_depth': 8, 'max_features': 'auto', 'min_samples_leaf': 50}\n",
      "0.735 (+/-0.028) for {'max_depth': 8, 'max_features': 'sqrt', 'min_samples_leaf': 10}\n",
      "0.746 (+/-0.051) for {'max_depth': 8, 'max_features': 'sqrt', 'min_samples_leaf': 20}\n",
      "0.720 (+/-0.020) for {'max_depth': 8, 'max_features': 'sqrt', 'min_samples_leaf': 50}\n",
      "0.734 (+/-0.056) for {'max_depth': 8, 'max_features': 'log2', 'min_samples_leaf': 10}\n",
      "0.735 (+/-0.040) for {'max_depth': 8, 'max_features': 'log2', 'min_samples_leaf': 20}\n",
      "0.720 (+/-0.041) for {'max_depth': 8, 'max_features': 'log2', 'min_samples_leaf': 50}\n",
      "Best score =  0.7549999999999999\n",
      "Best parameters =  {'max_depth': 6, 'max_features': 'sqrt', 'min_samples_leaf': 10}\n"
     ]
    }
   ],
   "source": [
    "def find_model(X, y):\n",
    "    parameters = {'max_depth':[3, 4, 5, 6 ,7, 8],\n",
    "                  'max_features': ('auto', 'sqrt', 'log2'),\n",
    "                  'min_samples_leaf': [10, 20, 50]}\n",
    "    gs = GridSearchCV(GradientBoostingClassifier(random_state=101), parameters)#, scoring=cost_score)\n",
    "    gs.fit(X, y)\n",
    "    for mean, std, params in zip(gs.cv_results_['mean_test_score'],\n",
    "                                 gs.cv_results_['std_test_score'],\n",
    "                                 gs.cv_results_['params']):\n",
    "        print(\"%0.3f (+/-%0.03f) for %r\" % (mean, std * 2, params))\n",
    "    print('Best score = ', gs.best_score_)\n",
    "    print('Best parameters = ', gs.best_params_)\n",
    "    return gs.best_estimator_\n",
    "\n",
    "clf = find_model(X_train, y_train)"
   ]
  },
  {
   "cell_type": "markdown",
   "metadata": {},
   "source": [
    "### 5.3 Check at the learning curve"
   ]
  },
  {
   "cell_type": "code",
   "execution_count": 27,
   "metadata": {},
   "outputs": [
    {
     "data": {
      "text/html": [
       "<div>\n",
       "<style scoped>\n",
       "    .dataframe tbody tr th:only-of-type {\n",
       "        vertical-align: middle;\n",
       "    }\n",
       "\n",
       "    .dataframe tbody tr th {\n",
       "        vertical-align: top;\n",
       "    }\n",
       "\n",
       "    .dataframe thead th {\n",
       "        text-align: right;\n",
       "    }\n",
       "</style>\n",
       "<table border=\"1\" class=\"dataframe\">\n",
       "  <thead>\n",
       "    <tr style=\"text-align: right;\">\n",
       "      <th></th>\n",
       "      <th>train_accuracy</th>\n",
       "      <th>test_accuracy</th>\n",
       "      <th>train_f1</th>\n",
       "      <th>test_f1</th>\n",
       "    </tr>\n",
       "  </thead>\n",
       "  <tbody>\n",
       "    <tr>\n",
       "      <th>100</th>\n",
       "      <td>0.94</td>\n",
       "      <td>0.725</td>\n",
       "      <td>0.959459</td>\n",
       "      <td>0.819672</td>\n",
       "    </tr>\n",
       "    <tr>\n",
       "      <th>200</th>\n",
       "      <td>0.98</td>\n",
       "      <td>0.745</td>\n",
       "      <td>0.985915</td>\n",
       "      <td>0.831683</td>\n",
       "    </tr>\n",
       "    <tr>\n",
       "      <th>300</th>\n",
       "      <td>0.986667</td>\n",
       "      <td>0.76</td>\n",
       "      <td>0.990385</td>\n",
       "      <td>0.837838</td>\n",
       "    </tr>\n",
       "    <tr>\n",
       "      <th>400</th>\n",
       "      <td>0.9775</td>\n",
       "      <td>0.775</td>\n",
       "      <td>0.983784</td>\n",
       "      <td>0.844291</td>\n",
       "    </tr>\n",
       "    <tr>\n",
       "      <th>500</th>\n",
       "      <td>0.992</td>\n",
       "      <td>0.785</td>\n",
       "      <td>0.994236</td>\n",
       "      <td>0.851211</td>\n",
       "    </tr>\n",
       "    <tr>\n",
       "      <th>600</th>\n",
       "      <td>0.986667</td>\n",
       "      <td>0.84</td>\n",
       "      <td>0.990544</td>\n",
       "      <td>0.891892</td>\n",
       "    </tr>\n",
       "    <tr>\n",
       "      <th>700</th>\n",
       "      <td>0.975714</td>\n",
       "      <td>0.795</td>\n",
       "      <td>0.982949</td>\n",
       "      <td>0.863787</td>\n",
       "    </tr>\n",
       "    <tr>\n",
       "      <th>800</th>\n",
       "      <td>0.9775</td>\n",
       "      <td>0.79</td>\n",
       "      <td>0.984071</td>\n",
       "      <td>0.860927</td>\n",
       "    </tr>\n",
       "  </tbody>\n",
       "</table>\n",
       "</div>"
      ],
      "text/plain": [
       "    train_accuracy test_accuracy  train_f1   test_f1\n",
       "100           0.94         0.725  0.959459  0.819672\n",
       "200           0.98         0.745  0.985915  0.831683\n",
       "300       0.986667          0.76  0.990385  0.837838\n",
       "400         0.9775         0.775  0.983784  0.844291\n",
       "500          0.992         0.785  0.994236  0.851211\n",
       "600       0.986667          0.84  0.990544  0.891892\n",
       "700       0.975714         0.795  0.982949  0.863787\n",
       "800         0.9775          0.79  0.984071  0.860927"
      ]
     },
     "metadata": {},
     "output_type": "display_data"
    },
    {
     "data": {
      "image/png": "[encoded data removed]",
      "text/plain": [
       "<Figure size 432x288 with 1 Axes>"
      ]
     },
     "metadata": {
      "needs_background": "light"
     },
     "output_type": "display_data"
    }
   ],
   "source": [
    "def learning_curve(X_train, X_test, y_train, y_test, model, step=100):\n",
    "    \"\"\"\n",
    "    Calculate the performance of the model after a set of training data.\n",
    "    \"\"\"\n",
    "    n_train = y_train.shape[0]\n",
    "    sizes = list(range(step, n_train+1, step))\n",
    "    metrics = ['train_accuracy', 'test_accuracy', 'train_f1', 'test_f1']\n",
    "    results_df = pd.DataFrame(columns=metrics, index=sizes)\n",
    "    \n",
    "    for i, s in enumerate(sizes):\n",
    "        model.fit(X_train[:s], y_train[:s])\n",
    "\n",
    "        y_train_pred = model.predict(X_train[:s])\n",
    "        results_df.at[s, 'train_accuracy'] = accuracy_score(y_train[:s], y_train_pred)\n",
    "        results_df.at[s, 'train_f1'] = f1_score(y_train[:s], y_train_pred)\n",
    "        \n",
    "        y_test_pred  = model.predict(X_test)\n",
    "        results_df.at[s, 'test_accuracy']  = accuracy_score(y_test, y_test_pred)\n",
    "        results_df.at[s, 'test_f1']  = f1_score(y_test, y_test_pred)\n",
    "        \n",
    "    display(results_df)\n",
    "    compare_lines(sizes, 'Training Size', 'Accuracy',\n",
    "                  [results_df.train_accuracy, results_df.test_accuracy],\n",
    "                  labels=['train','test'],title='Learning Curve')\n",
    "\n",
    "clf = GradientBoostingClassifier(max_depth=7, max_features='auto', min_samples_leaf=20, random_state=101)\n",
    "learning_curve(X_train, X_test, y_train, y_test, clf)"
   ]
  },
  {
   "cell_type": "markdown",
   "metadata": {},
   "source": [
    "### 5.4 Comments\n",
    "\n",
    "70% of the population is a good credit risk. Our model is better than guessing. The train accuracy is significantly higher than the test accuracy. We are overfitting. We could do better with more data to train on - the model is still learning.\n",
    "\n",
    "## 6 Calculate fairness metrics on the model output\n",
    "\n",
    "### 6.1 Make model predictions and check independence fairness metrics\n",
    "\n",
    "- Pick the best model based on our grid cross validation\n",
    "- Train on the training dataset\n",
    "- Make predictions on the data set\n",
    "- Create model_df -> model_ds and model_metric\n",
    "- Calculate the fairness metrics on the model output for the full dataset"
   ]
  },
  {
   "cell_type": "code",
   "execution_count": 28,
   "metadata": {},
   "outputs": [
    {
     "data": {
      "text/html": [
       "<div>\n",
       "<style scoped>\n",
       "    .dataframe tbody tr th:only-of-type {\n",
       "        vertical-align: middle;\n",
       "    }\n",
       "\n",
       "    .dataframe tbody tr th {\n",
       "        vertical-align: top;\n",
       "    }\n",
       "\n",
       "    .dataframe thead th {\n",
       "        text-align: right;\n",
       "    }\n",
       "</style>\n",
       "<table border=\"1\" class=\"dataframe\">\n",
       "  <thead>\n",
       "    <tr style=\"text-align: right;\">\n",
       "      <th></th>\n",
       "      <th>female</th>\n",
       "      <th>male</th>\n",
       "      <th>difference</th>\n",
       "      <th>ratio</th>\n",
       "    </tr>\n",
       "  </thead>\n",
       "  <tbody>\n",
       "    <tr>\n",
       "      <th>data</th>\n",
       "      <td>0.648387</td>\n",
       "      <td>0.723188</td>\n",
       "      <td>-0.0748013</td>\n",
       "      <td>0.896567</td>\n",
       "    </tr>\n",
       "    <tr>\n",
       "      <th>model</th>\n",
       "      <td>0.683871</td>\n",
       "      <td>0.753623</td>\n",
       "      <td>-0.0697522</td>\n",
       "      <td>0.907444</td>\n",
       "    </tr>\n",
       "    <tr>\n",
       "      <th>train data</th>\n",
       "      <td>NaN</td>\n",
       "      <td>NaN</td>\n",
       "      <td>NaN</td>\n",
       "      <td>NaN</td>\n",
       "    </tr>\n",
       "    <tr>\n",
       "      <th>train model</th>\n",
       "      <td>NaN</td>\n",
       "      <td>NaN</td>\n",
       "      <td>NaN</td>\n",
       "      <td>NaN</td>\n",
       "    </tr>\n",
       "    <tr>\n",
       "      <th>test data</th>\n",
       "      <td>NaN</td>\n",
       "      <td>NaN</td>\n",
       "      <td>NaN</td>\n",
       "      <td>NaN</td>\n",
       "    </tr>\n",
       "    <tr>\n",
       "      <th>test model</th>\n",
       "      <td>NaN</td>\n",
       "      <td>NaN</td>\n",
       "      <td>NaN</td>\n",
       "      <td>NaN</td>\n",
       "    </tr>\n",
       "  </tbody>\n",
       "</table>\n",
       "</div>"
      ],
      "text/plain": [
       "               female      male difference     ratio\n",
       "data         0.648387  0.723188 -0.0748013  0.896567\n",
       "model        0.683871  0.753623 -0.0697522  0.907444\n",
       "train data        NaN       NaN        NaN       NaN\n",
       "train model       NaN       NaN        NaN       NaN\n",
       "test data         NaN       NaN        NaN       NaN\n",
       "test model        NaN       NaN        NaN       NaN"
      ]
     },
     "metadata": {},
     "output_type": "display_data"
    }
   ],
   "source": [
    "model_df = pd.concat([X, pd.Series(clf.predict(X), name='goodcredit')], axis=1)\n",
    "\n",
    "model_ds = BinaryLabelDataset(df = model_df,\n",
    "                              label_names = ['goodcredit'],\n",
    "                              protected_attribute_names = ['male'])\n",
    "\n",
    "model_metric = BinaryLabelDatasetMetric(model_ds,\n",
    "                                        privileged_groups = privileged_groups,\n",
    "                                        unprivileged_groups = unprivileged_groups)\n",
    "\n",
    "outcomes_df.at['model', 'female'    ] = model_metric.base_rate(privileged=0)\n",
    "outcomes_df.at['model', 'male'      ] = model_metric.base_rate(privileged=1)\n",
    "outcomes_df.at['model', 'difference'] = model_metric.mean_difference()\n",
    "outcomes_df.at['model', 'ratio'     ] = model_metric.disparate_impact()\n",
    "\n",
    "display(outcomes_df)"
   ]
  },
  {
   "cell_type": "code",
   "execution_count": 29,
   "metadata": {},
   "outputs": [
    {
     "data": {
      "text/html": [
       "<div>\n",
       "<style scoped>\n",
       "    .dataframe tbody tr th:only-of-type {\n",
       "        vertical-align: middle;\n",
       "    }\n",
       "\n",
       "    .dataframe tbody tr th {\n",
       "        vertical-align: top;\n",
       "    }\n",
       "\n",
       "    .dataframe thead th {\n",
       "        text-align: right;\n",
       "    }\n",
       "</style>\n",
       "<table border=\"1\" class=\"dataframe\">\n",
       "  <thead>\n",
       "    <tr style=\"text-align: right;\">\n",
       "      <th></th>\n",
       "      <th>goodcredit</th>\n",
       "    </tr>\n",
       "    <tr>\n",
       "      <th>male</th>\n",
       "      <th></th>\n",
       "    </tr>\n",
       "  </thead>\n",
       "  <tbody>\n",
       "    <tr>\n",
       "      <th>0</th>\n",
       "      <td>0.683871</td>\n",
       "    </tr>\n",
       "    <tr>\n",
       "      <th>1</th>\n",
       "      <td>0.753623</td>\n",
       "    </tr>\n",
       "  </tbody>\n",
       "</table>\n",
       "</div>"
      ],
      "text/plain": [
       "      goodcredit\n",
       "male            \n",
       "0       0.683871\n",
       "1       0.753623"
      ]
     },
     "metadata": {},
     "output_type": "display_data"
    },
    {
     "name": "stdout",
     "output_type": "stream",
     "text": [
      "difference: -0.06975222066386166\n",
      "ratio: 0.9074441687344913\n"
     ]
    }
   ],
   "source": [
    "# Quick check we did it right\n",
    "probs = model_df[['male', 'goodcredit']].groupby('male').mean()\n",
    "display(probs)\n",
    "print('difference:', probs.goodcredit[0] - probs.goodcredit[1])\n",
    "print('ratio:', probs.goodcredit[0] / probs.goodcredit[1])"
   ]
  },
  {
   "cell_type": "markdown",
   "metadata": {},
   "source": [
    "### 6.2 Comments\n",
    "\n",
    "- The model acceptance rates are slightly higher than the data acceptance rates for both men and women\n",
    "- The model fairness metrics differ slightly from the data fairness metrics.\n",
    "\n",
    "### 6.3 Calculate consistency for the model output"
   ]
  },
  {
   "cell_type": "code",
   "execution_count": 30,
   "metadata": {},
   "outputs": [
    {
     "name": "stderr",
     "output_type": "stream",
     "text": [
      "/Users/leenamurgai/anaconda3/envs/aif360lm/lib/python3.7/site-packages/sklearn/utils/validation.py:70: FutureWarning: Pass n_neighbors=5 as keyword args. From version 0.25 passing these as positional arguments will result in an error\n",
      "  FutureWarning)\n",
      "/Users/leenamurgai/anaconda3/envs/aif360lm/lib/python3.7/site-packages/sklearn/utils/validation.py:70: FutureWarning: Pass n_neighbors=5 as keyword args. From version 0.25 passing these as positional arguments will result in an error\n",
      "  FutureWarning)\n"
     ]
    },
    {
     "data": {
      "text/html": [
       "<div>\n",
       "<style scoped>\n",
       "    .dataframe tbody tr th:only-of-type {\n",
       "        vertical-align: middle;\n",
       "    }\n",
       "\n",
       "    .dataframe tbody tr th {\n",
       "        vertical-align: top;\n",
       "    }\n",
       "\n",
       "    .dataframe thead th {\n",
       "        text-align: right;\n",
       "    }\n",
       "</style>\n",
       "<table border=\"1\" class=\"dataframe\">\n",
       "  <thead>\n",
       "    <tr style=\"text-align: right;\">\n",
       "      <th></th>\n",
       "      <th>original</th>\n",
       "      <th>ignore_protected</th>\n",
       "    </tr>\n",
       "  </thead>\n",
       "  <tbody>\n",
       "    <tr>\n",
       "      <th>data</th>\n",
       "      <td>0.6814</td>\n",
       "      <td>0.6812</td>\n",
       "    </tr>\n",
       "    <tr>\n",
       "      <th>model</th>\n",
       "      <td>0.7066</td>\n",
       "      <td>0.7064</td>\n",
       "    </tr>\n",
       "    <tr>\n",
       "      <th>train data</th>\n",
       "      <td>NaN</td>\n",
       "      <td>NaN</td>\n",
       "    </tr>\n",
       "    <tr>\n",
       "      <th>train model</th>\n",
       "      <td>NaN</td>\n",
       "      <td>NaN</td>\n",
       "    </tr>\n",
       "    <tr>\n",
       "      <th>test data</th>\n",
       "      <td>NaN</td>\n",
       "      <td>NaN</td>\n",
       "    </tr>\n",
       "    <tr>\n",
       "      <th>test model</th>\n",
       "      <td>NaN</td>\n",
       "      <td>NaN</td>\n",
       "    </tr>\n",
       "  </tbody>\n",
       "</table>\n",
       "</div>"
      ],
      "text/plain": [
       "             original  ignore_protected\n",
       "data           0.6814            0.6812\n",
       "model          0.7066            0.7064\n",
       "train data        NaN               NaN\n",
       "train model       NaN               NaN\n",
       "test data         NaN               NaN\n",
       "test model        NaN               NaN"
      ]
     },
     "metadata": {},
     "output_type": "display_data"
    }
   ],
   "source": [
    "consistency.at['model', 'original'] = model_metric.consistency()\n",
    "consistency.at['model', 'ignore_protected'] = model_metric.consistency(ignore_protected=True)\n",
    "\n",
    "display(consistency)"
   ]
  },
  {
   "cell_type": "markdown",
   "metadata": {},
   "source": [
    "### 6.4 Calculate independence fairness metrics on our train set only"
   ]
  },
  {
   "cell_type": "code",
   "execution_count": 31,
   "metadata": {},
   "outputs": [
    {
     "data": {
      "text/html": [
       "<div>\n",
       "<style scoped>\n",
       "    .dataframe tbody tr th:only-of-type {\n",
       "        vertical-align: middle;\n",
       "    }\n",
       "\n",
       "    .dataframe tbody tr th {\n",
       "        vertical-align: top;\n",
       "    }\n",
       "\n",
       "    .dataframe thead th {\n",
       "        text-align: right;\n",
       "    }\n",
       "</style>\n",
       "<table border=\"1\" class=\"dataframe\">\n",
       "  <thead>\n",
       "    <tr style=\"text-align: right;\">\n",
       "      <th></th>\n",
       "      <th>female</th>\n",
       "      <th>male</th>\n",
       "      <th>difference</th>\n",
       "      <th>ratio</th>\n",
       "    </tr>\n",
       "  </thead>\n",
       "  <tbody>\n",
       "    <tr>\n",
       "      <th>data</th>\n",
       "      <td>0.648387</td>\n",
       "      <td>0.723188</td>\n",
       "      <td>-0.0748013</td>\n",
       "      <td>0.896567</td>\n",
       "    </tr>\n",
       "    <tr>\n",
       "      <th>model</th>\n",
       "      <td>0.683871</td>\n",
       "      <td>0.753623</td>\n",
       "      <td>-0.0697522</td>\n",
       "      <td>0.907444</td>\n",
       "    </tr>\n",
       "    <tr>\n",
       "      <th>train data</th>\n",
       "      <td>0.658915</td>\n",
       "      <td>0.719557</td>\n",
       "      <td>-0.0606425</td>\n",
       "      <td>0.915723</td>\n",
       "    </tr>\n",
       "    <tr>\n",
       "      <th>train model</th>\n",
       "      <td>0.678295</td>\n",
       "      <td>0.728782</td>\n",
       "      <td>-0.0504877</td>\n",
       "      <td>0.930723</td>\n",
       "    </tr>\n",
       "    <tr>\n",
       "      <th>test data</th>\n",
       "      <td>NaN</td>\n",
       "      <td>NaN</td>\n",
       "      <td>NaN</td>\n",
       "      <td>NaN</td>\n",
       "    </tr>\n",
       "    <tr>\n",
       "      <th>test model</th>\n",
       "      <td>NaN</td>\n",
       "      <td>NaN</td>\n",
       "      <td>NaN</td>\n",
       "      <td>NaN</td>\n",
       "    </tr>\n",
       "  </tbody>\n",
       "</table>\n",
       "</div>"
      ],
      "text/plain": [
       "               female      male difference     ratio\n",
       "data         0.648387  0.723188 -0.0748013  0.896567\n",
       "model        0.683871  0.753623 -0.0697522  0.907444\n",
       "train data   0.658915  0.719557 -0.0606425  0.915723\n",
       "train model  0.678295  0.728782 -0.0504877  0.930723\n",
       "test data         NaN       NaN        NaN       NaN\n",
       "test model        NaN       NaN        NaN       NaN"
      ]
     },
     "metadata": {},
     "output_type": "display_data"
    }
   ],
   "source": [
    "clf = GradientBoostingClassifier(max_depth=7, max_features='auto', min_samples_leaf=20, random_state=101)\n",
    "clf.fit(X_train, y_train)\n",
    "\n",
    "modelTr_df = pd.concat([X_train, pd.Series(clf.predict(X_train),\n",
    "                                           name='goodcredit',\n",
    "                                           index = X_train.index)], axis=1)\n",
    "modelTr_ds = BinaryLabelDataset(df = modelTr_df,\n",
    "                                label_names = ['goodcredit'],\n",
    "                                protected_attribute_names = ['male'])\n",
    "\n",
    "modelTr_metric = BinaryLabelDatasetMetric(modelTr_ds,\n",
    "                                          privileged_groups = privileged_groups,\n",
    "                                          unprivileged_groups = unprivileged_groups)\n",
    "\n",
    "dataTr_ds = BinaryLabelDataset(df = pd.concat([X_train, y_train], axis=1),\n",
    "                               label_names = ['goodcredit'],\n",
    "                               protected_attribute_names = ['male'])\n",
    "\n",
    "dataTr_metric = BinaryLabelDatasetMetric(dataTr_ds,\n",
    "                                         privileged_groups = privileged_groups,\n",
    "                                         unprivileged_groups = unprivileged_groups)\n",
    "\n",
    "outcomes_df.at['train data', 'female'    ] = dataTr_metric.base_rate(privileged=0)\n",
    "outcomes_df.at['train data', 'male'      ] = dataTr_metric.base_rate(privileged=1)\n",
    "outcomes_df.at['train data', 'difference'] = dataTr_metric.mean_difference()\n",
    "outcomes_df.at['train data', 'ratio'     ] = dataTr_metric.disparate_impact()\n",
    "\n",
    "outcomes_df.at['train model', 'female'    ] = modelTr_metric.base_rate(privileged=0)\n",
    "outcomes_df.at['train model', 'male'      ] = modelTr_metric.base_rate(privileged=1)\n",
    "outcomes_df.at['train model', 'difference'] = modelTr_metric.mean_difference()\n",
    "outcomes_df.at['train model', 'ratio'     ] = modelTr_metric.disparate_impact()\n",
    "\n",
    "display(outcomes_df)"
   ]
  },
  {
   "cell_type": "code",
   "execution_count": 32,
   "metadata": {},
   "outputs": [
    {
     "data": {
      "text/html": [
       "<div>\n",
       "<style scoped>\n",
       "    .dataframe tbody tr th:only-of-type {\n",
       "        vertical-align: middle;\n",
       "    }\n",
       "\n",
       "    .dataframe tbody tr th {\n",
       "        vertical-align: top;\n",
       "    }\n",
       "\n",
       "    .dataframe thead th {\n",
       "        text-align: right;\n",
       "    }\n",
       "</style>\n",
       "<table border=\"1\" class=\"dataframe\">\n",
       "  <thead>\n",
       "    <tr style=\"text-align: right;\">\n",
       "      <th></th>\n",
       "      <th>goodcredit</th>\n",
       "    </tr>\n",
       "    <tr>\n",
       "      <th>male</th>\n",
       "      <th></th>\n",
       "    </tr>\n",
       "  </thead>\n",
       "  <tbody>\n",
       "    <tr>\n",
       "      <th>0</th>\n",
       "      <td>0.658915</td>\n",
       "    </tr>\n",
       "    <tr>\n",
       "      <th>1</th>\n",
       "      <td>0.719557</td>\n",
       "    </tr>\n",
       "  </tbody>\n",
       "</table>\n",
       "</div>"
      ],
      "text/plain": [
       "      goodcredit\n",
       "male            \n",
       "0       0.658915\n",
       "1       0.719557"
      ]
     },
     "metadata": {},
     "output_type": "display_data"
    },
    {
     "name": "stdout",
     "output_type": "stream",
     "text": [
      "difference: -0.06064246688978525\n",
      "ratio: 0.9157225203736831\n"
     ]
    }
   ],
   "source": [
    "# Quick check we did it right\n",
    "probs = pd.concat([X_train['male'], y_train], axis=1).groupby('male').mean()\n",
    "display(probs)\n",
    "print('difference:', probs.goodcredit[0] - probs.goodcredit[1])\n",
    "print('ratio:', probs.goodcredit[0] / probs.goodcredit[1])"
   ]
  },
  {
   "cell_type": "code",
   "execution_count": 33,
   "metadata": {},
   "outputs": [
    {
     "data": {
      "text/html": [
       "<div>\n",
       "<style scoped>\n",
       "    .dataframe tbody tr th:only-of-type {\n",
       "        vertical-align: middle;\n",
       "    }\n",
       "\n",
       "    .dataframe tbody tr th {\n",
       "        vertical-align: top;\n",
       "    }\n",
       "\n",
       "    .dataframe thead th {\n",
       "        text-align: right;\n",
       "    }\n",
       "</style>\n",
       "<table border=\"1\" class=\"dataframe\">\n",
       "  <thead>\n",
       "    <tr style=\"text-align: right;\">\n",
       "      <th></th>\n",
       "      <th>goodcredit</th>\n",
       "    </tr>\n",
       "    <tr>\n",
       "      <th>male</th>\n",
       "      <th></th>\n",
       "    </tr>\n",
       "  </thead>\n",
       "  <tbody>\n",
       "    <tr>\n",
       "      <th>0</th>\n",
       "      <td>0.678295</td>\n",
       "    </tr>\n",
       "    <tr>\n",
       "      <th>1</th>\n",
       "      <td>0.728782</td>\n",
       "    </tr>\n",
       "  </tbody>\n",
       "</table>\n",
       "</div>"
      ],
      "text/plain": [
       "      goodcredit\n",
       "male            \n",
       "0       0.678295\n",
       "1       0.728782"
      ]
     },
     "metadata": {},
     "output_type": "display_data"
    },
    {
     "name": "stdout",
     "output_type": "stream",
     "text": [
      "difference: -0.0504877141794674\n",
      "ratio: 0.9307231871258954\n"
     ]
    }
   ],
   "source": [
    "# Quick check we did it right\n",
    "probs = modelTr_df[['male', 'goodcredit']].groupby('male').mean()\n",
    "display(probs)\n",
    "print('difference:', probs.goodcredit[0] - probs.goodcredit[1])\n",
    "print('ratio:', probs.goodcredit[0] / probs.goodcredit[1])"
   ]
  },
  {
   "cell_type": "markdown",
   "metadata": {},
   "source": [
    "### 6.5 Calculate consistency for the train set only"
   ]
  },
  {
   "cell_type": "code",
   "execution_count": 34,
   "metadata": {},
   "outputs": [
    {
     "name": "stderr",
     "output_type": "stream",
     "text": [
      "/Users/leenamurgai/anaconda3/envs/aif360lm/lib/python3.7/site-packages/sklearn/utils/validation.py:70: FutureWarning: Pass n_neighbors=5 as keyword args. From version 0.25 passing these as positional arguments will result in an error\n",
      "  FutureWarning)\n",
      "/Users/leenamurgai/anaconda3/envs/aif360lm/lib/python3.7/site-packages/sklearn/utils/validation.py:70: FutureWarning: Pass n_neighbors=5 as keyword args. From version 0.25 passing these as positional arguments will result in an error\n",
      "  FutureWarning)\n",
      "/Users/leenamurgai/anaconda3/envs/aif360lm/lib/python3.7/site-packages/sklearn/utils/validation.py:70: FutureWarning: Pass n_neighbors=5 as keyword args. From version 0.25 passing these as positional arguments will result in an error\n",
      "  FutureWarning)\n",
      "/Users/leenamurgai/anaconda3/envs/aif360lm/lib/python3.7/site-packages/sklearn/utils/validation.py:70: FutureWarning: Pass n_neighbors=5 as keyword args. From version 0.25 passing these as positional arguments will result in an error\n",
      "  FutureWarning)\n"
     ]
    },
    {
     "data": {
      "text/html": [
       "<div>\n",
       "<style scoped>\n",
       "    .dataframe tbody tr th:only-of-type {\n",
       "        vertical-align: middle;\n",
       "    }\n",
       "\n",
       "    .dataframe tbody tr th {\n",
       "        vertical-align: top;\n",
       "    }\n",
       "\n",
       "    .dataframe thead th {\n",
       "        text-align: right;\n",
       "    }\n",
       "</style>\n",
       "<table border=\"1\" class=\"dataframe\">\n",
       "  <thead>\n",
       "    <tr style=\"text-align: right;\">\n",
       "      <th></th>\n",
       "      <th>original</th>\n",
       "      <th>ignore_protected</th>\n",
       "    </tr>\n",
       "  </thead>\n",
       "  <tbody>\n",
       "    <tr>\n",
       "      <th>data</th>\n",
       "      <td>0.6814</td>\n",
       "      <td>0.68120</td>\n",
       "    </tr>\n",
       "    <tr>\n",
       "      <th>model</th>\n",
       "      <td>0.7066</td>\n",
       "      <td>0.70640</td>\n",
       "    </tr>\n",
       "    <tr>\n",
       "      <th>train data</th>\n",
       "      <td>0.6705</td>\n",
       "      <td>0.67025</td>\n",
       "    </tr>\n",
       "    <tr>\n",
       "      <th>train model</th>\n",
       "      <td>0.6885</td>\n",
       "      <td>0.68825</td>\n",
       "    </tr>\n",
       "    <tr>\n",
       "      <th>test data</th>\n",
       "      <td>NaN</td>\n",
       "      <td>NaN</td>\n",
       "    </tr>\n",
       "    <tr>\n",
       "      <th>test model</th>\n",
       "      <td>NaN</td>\n",
       "      <td>NaN</td>\n",
       "    </tr>\n",
       "  </tbody>\n",
       "</table>\n",
       "</div>"
      ],
      "text/plain": [
       "             original  ignore_protected\n",
       "data           0.6814           0.68120\n",
       "model          0.7066           0.70640\n",
       "train data     0.6705           0.67025\n",
       "train model    0.6885           0.68825\n",
       "test data         NaN               NaN\n",
       "test model        NaN               NaN"
      ]
     },
     "metadata": {},
     "output_type": "display_data"
    }
   ],
   "source": [
    "consistency.at['train data', 'original'] = dataTr_metric.consistency()\n",
    "consistency.at['train data', 'ignore_protected'] = dataTr_metric.consistency(ignore_protected=True)\n",
    "\n",
    "consistency.at['train model', 'original'] = modelTr_metric.consistency()\n",
    "consistency.at['train model', 'ignore_protected'] = modelTr_metric.consistency(ignore_protected=True)\n",
    "\n",
    "display(consistency)"
   ]
  },
  {
   "cell_type": "markdown",
   "metadata": {},
   "source": [
    "### 6.6 Calculate independence fairness metrics on our test set only"
   ]
  },
  {
   "cell_type": "code",
   "execution_count": 35,
   "metadata": {},
   "outputs": [
    {
     "data": {
      "text/html": [
       "<div>\n",
       "<style scoped>\n",
       "    .dataframe tbody tr th:only-of-type {\n",
       "        vertical-align: middle;\n",
       "    }\n",
       "\n",
       "    .dataframe tbody tr th {\n",
       "        vertical-align: top;\n",
       "    }\n",
       "\n",
       "    .dataframe thead th {\n",
       "        text-align: right;\n",
       "    }\n",
       "</style>\n",
       "<table border=\"1\" class=\"dataframe\">\n",
       "  <thead>\n",
       "    <tr style=\"text-align: right;\">\n",
       "      <th></th>\n",
       "      <th>female</th>\n",
       "      <th>male</th>\n",
       "      <th>difference</th>\n",
       "      <th>ratio</th>\n",
       "    </tr>\n",
       "  </thead>\n",
       "  <tbody>\n",
       "    <tr>\n",
       "      <th>data</th>\n",
       "      <td>0.648387</td>\n",
       "      <td>0.723188</td>\n",
       "      <td>-0.0748013</td>\n",
       "      <td>0.896567</td>\n",
       "    </tr>\n",
       "    <tr>\n",
       "      <th>model</th>\n",
       "      <td>0.683871</td>\n",
       "      <td>0.753623</td>\n",
       "      <td>-0.0697522</td>\n",
       "      <td>0.907444</td>\n",
       "    </tr>\n",
       "    <tr>\n",
       "      <th>train data</th>\n",
       "      <td>0.658915</td>\n",
       "      <td>0.719557</td>\n",
       "      <td>-0.0606425</td>\n",
       "      <td>0.915723</td>\n",
       "    </tr>\n",
       "    <tr>\n",
       "      <th>train model</th>\n",
       "      <td>0.678295</td>\n",
       "      <td>0.728782</td>\n",
       "      <td>-0.0504877</td>\n",
       "      <td>0.930723</td>\n",
       "    </tr>\n",
       "    <tr>\n",
       "      <th>test data</th>\n",
       "      <td>0.596154</td>\n",
       "      <td>0.736486</td>\n",
       "      <td>-0.140333</td>\n",
       "      <td>0.809457</td>\n",
       "    </tr>\n",
       "    <tr>\n",
       "      <th>test model</th>\n",
       "      <td>0.711538</td>\n",
       "      <td>0.844595</td>\n",
       "      <td>-0.133056</td>\n",
       "      <td>0.842462</td>\n",
       "    </tr>\n",
       "  </tbody>\n",
       "</table>\n",
       "</div>"
      ],
      "text/plain": [
       "               female      male difference     ratio\n",
       "data         0.648387  0.723188 -0.0748013  0.896567\n",
       "model        0.683871  0.753623 -0.0697522  0.907444\n",
       "train data   0.658915  0.719557 -0.0606425  0.915723\n",
       "train model  0.678295  0.728782 -0.0504877  0.930723\n",
       "test data    0.596154  0.736486  -0.140333  0.809457\n",
       "test model   0.711538  0.844595  -0.133056  0.842462"
      ]
     },
     "metadata": {},
     "output_type": "display_data"
    }
   ],
   "source": [
    "modelTs_df = pd.concat([X_test, pd.Series(clf.predict(X_test),\n",
    "                                          name='goodcredit',\n",
    "                                          index = X_test.index)], axis=1)\n",
    "modelTs_ds = BinaryLabelDataset(df = modelTs_df,\n",
    "                                label_names = ['goodcredit'],\n",
    "                                protected_attribute_names = ['male'])\n",
    "\n",
    "modelTs_metric = BinaryLabelDatasetMetric(modelTs_ds,\n",
    "                                          privileged_groups = privileged_groups,\n",
    "                                          unprivileged_groups = unprivileged_groups)\n",
    "\n",
    "dataTs_ds = BinaryLabelDataset(df = pd.concat([X_test, y_test], axis=1),\n",
    "                               label_names = ['goodcredit'],\n",
    "                               protected_attribute_names = ['male'])\n",
    "\n",
    "dataTs_metric = BinaryLabelDatasetMetric(dataTs_ds,\n",
    "                                         privileged_groups = privileged_groups,\n",
    "                                         unprivileged_groups = unprivileged_groups)\n",
    "\n",
    "outcomes_df.at['test data', 'female'    ] = dataTs_metric.base_rate(privileged=0)\n",
    "outcomes_df.at['test data', 'male'      ] = dataTs_metric.base_rate(privileged=1)\n",
    "outcomes_df.at['test data', 'difference'] = dataTs_metric.mean_difference()\n",
    "outcomes_df.at['test data', 'ratio'     ] = dataTs_metric.disparate_impact()\n",
    "\n",
    "outcomes_df.at['test model', 'female'    ] = modelTs_metric.base_rate(privileged=0)\n",
    "outcomes_df.at['test model', 'male'      ] = modelTs_metric.base_rate(privileged=1)\n",
    "outcomes_df.at['test model', 'difference'] = modelTs_metric.mean_difference()\n",
    "outcomes_df.at['test model', 'ratio'     ] = modelTs_metric.disparate_impact()\n",
    "\n",
    "display(outcomes_df)"
   ]
  },
  {
   "cell_type": "code",
   "execution_count": 36,
   "metadata": {},
   "outputs": [
    {
     "data": {
      "text/html": [
       "<div>\n",
       "<style scoped>\n",
       "    .dataframe tbody tr th:only-of-type {\n",
       "        vertical-align: middle;\n",
       "    }\n",
       "\n",
       "    .dataframe tbody tr th {\n",
       "        vertical-align: top;\n",
       "    }\n",
       "\n",
       "    .dataframe thead th {\n",
       "        text-align: right;\n",
       "    }\n",
       "</style>\n",
       "<table border=\"1\" class=\"dataframe\">\n",
       "  <thead>\n",
       "    <tr style=\"text-align: right;\">\n",
       "      <th></th>\n",
       "      <th>goodcredit</th>\n",
       "    </tr>\n",
       "    <tr>\n",
       "      <th>male</th>\n",
       "      <th></th>\n",
       "    </tr>\n",
       "  </thead>\n",
       "  <tbody>\n",
       "    <tr>\n",
       "      <th>0</th>\n",
       "      <td>0.596154</td>\n",
       "    </tr>\n",
       "    <tr>\n",
       "      <th>1</th>\n",
       "      <td>0.736486</td>\n",
       "    </tr>\n",
       "  </tbody>\n",
       "</table>\n",
       "</div>"
      ],
      "text/plain": [
       "      goodcredit\n",
       "male            \n",
       "0       0.596154\n",
       "1       0.736486"
      ]
     },
     "metadata": {},
     "output_type": "display_data"
    },
    {
     "name": "stdout",
     "output_type": "stream",
     "text": [
      "difference: -0.14033264033264037\n",
      "ratio: 0.8094565984474241\n"
     ]
    }
   ],
   "source": [
    "# Quick check we did it right\n",
    "probs = pd.concat([X_test['male'], y_test], axis=1).groupby('male').mean()\n",
    "display(probs)\n",
    "print('difference:', probs.goodcredit[0] - probs.goodcredit[1])\n",
    "print('ratio:', probs.goodcredit[0] / probs.goodcredit[1])"
   ]
  },
  {
   "cell_type": "code",
   "execution_count": 37,
   "metadata": {},
   "outputs": [
    {
     "data": {
      "text/html": [
       "<div>\n",
       "<style scoped>\n",
       "    .dataframe tbody tr th:only-of-type {\n",
       "        vertical-align: middle;\n",
       "    }\n",
       "\n",
       "    .dataframe tbody tr th {\n",
       "        vertical-align: top;\n",
       "    }\n",
       "\n",
       "    .dataframe thead th {\n",
       "        text-align: right;\n",
       "    }\n",
       "</style>\n",
       "<table border=\"1\" class=\"dataframe\">\n",
       "  <thead>\n",
       "    <tr style=\"text-align: right;\">\n",
       "      <th></th>\n",
       "      <th>goodcredit</th>\n",
       "    </tr>\n",
       "    <tr>\n",
       "      <th>male</th>\n",
       "      <th></th>\n",
       "    </tr>\n",
       "  </thead>\n",
       "  <tbody>\n",
       "    <tr>\n",
       "      <th>0</th>\n",
       "      <td>0.711538</td>\n",
       "    </tr>\n",
       "    <tr>\n",
       "      <th>1</th>\n",
       "      <td>0.844595</td>\n",
       "    </tr>\n",
       "  </tbody>\n",
       "</table>\n",
       "</div>"
      ],
      "text/plain": [
       "      goodcredit\n",
       "male            \n",
       "0       0.711538\n",
       "1       0.844595"
      ]
     },
     "metadata": {},
     "output_type": "display_data"
    },
    {
     "name": "stdout",
     "output_type": "stream",
     "text": [
      "difference: -0.13305613305613306\n",
      "ratio: 0.8424615384615385\n"
     ]
    }
   ],
   "source": [
    "# Quick check we did it right\n",
    "probs = modelTs_df[['male', 'goodcredit']].groupby('male').mean()\n",
    "display(probs)\n",
    "print('difference:', probs.goodcredit[0] - probs.goodcredit[1])\n",
    "print('ratio:', probs.goodcredit[0] / probs.goodcredit[1])"
   ]
  },
  {
   "cell_type": "markdown",
   "metadata": {},
   "source": [
    "### 6.7 Comments\n",
    "\n",
    "The model fairness metrics differ slightly from the data fairness metrics.\n",
    "\n",
    "### 6.8 Calculate consistency for the test set only"
   ]
  },
  {
   "cell_type": "code",
   "execution_count": 38,
   "metadata": {},
   "outputs": [
    {
     "name": "stderr",
     "output_type": "stream",
     "text": [
      "/Users/leenamurgai/anaconda3/envs/aif360lm/lib/python3.7/site-packages/sklearn/utils/validation.py:70: FutureWarning: Pass n_neighbors=5 as keyword args. From version 0.25 passing these as positional arguments will result in an error\n",
      "  FutureWarning)\n",
      "/Users/leenamurgai/anaconda3/envs/aif360lm/lib/python3.7/site-packages/sklearn/utils/validation.py:70: FutureWarning: Pass n_neighbors=5 as keyword args. From version 0.25 passing these as positional arguments will result in an error\n",
      "  FutureWarning)\n",
      "/Users/leenamurgai/anaconda3/envs/aif360lm/lib/python3.7/site-packages/sklearn/utils/validation.py:70: FutureWarning: Pass n_neighbors=5 as keyword args. From version 0.25 passing these as positional arguments will result in an error\n",
      "  FutureWarning)\n",
      "/Users/leenamurgai/anaconda3/envs/aif360lm/lib/python3.7/site-packages/sklearn/utils/validation.py:70: FutureWarning: Pass n_neighbors=5 as keyword args. From version 0.25 passing these as positional arguments will result in an error\n",
      "  FutureWarning)\n"
     ]
    },
    {
     "data": {
      "text/html": [
       "<div>\n",
       "<style scoped>\n",
       "    .dataframe tbody tr th:only-of-type {\n",
       "        vertical-align: middle;\n",
       "    }\n",
       "\n",
       "    .dataframe tbody tr th {\n",
       "        vertical-align: top;\n",
       "    }\n",
       "\n",
       "    .dataframe thead th {\n",
       "        text-align: right;\n",
       "    }\n",
       "</style>\n",
       "<table border=\"1\" class=\"dataframe\">\n",
       "  <thead>\n",
       "    <tr style=\"text-align: right;\">\n",
       "      <th></th>\n",
       "      <th>original</th>\n",
       "      <th>ignore_protected</th>\n",
       "    </tr>\n",
       "  </thead>\n",
       "  <tbody>\n",
       "    <tr>\n",
       "      <th>data</th>\n",
       "      <td>0.6814</td>\n",
       "      <td>0.68120</td>\n",
       "    </tr>\n",
       "    <tr>\n",
       "      <th>model</th>\n",
       "      <td>0.7066</td>\n",
       "      <td>0.70640</td>\n",
       "    </tr>\n",
       "    <tr>\n",
       "      <th>train data</th>\n",
       "      <td>0.6705</td>\n",
       "      <td>0.67025</td>\n",
       "    </tr>\n",
       "    <tr>\n",
       "      <th>train model</th>\n",
       "      <td>0.6885</td>\n",
       "      <td>0.68825</td>\n",
       "    </tr>\n",
       "    <tr>\n",
       "      <th>test data</th>\n",
       "      <td>0.7040</td>\n",
       "      <td>0.70400</td>\n",
       "    </tr>\n",
       "    <tr>\n",
       "      <th>test model</th>\n",
       "      <td>0.7810</td>\n",
       "      <td>0.78100</td>\n",
       "    </tr>\n",
       "  </tbody>\n",
       "</table>\n",
       "</div>"
      ],
      "text/plain": [
       "             original  ignore_protected\n",
       "data           0.6814           0.68120\n",
       "model          0.7066           0.70640\n",
       "train data     0.6705           0.67025\n",
       "train model    0.6885           0.68825\n",
       "test data      0.7040           0.70400\n",
       "test model     0.7810           0.78100"
      ]
     },
     "metadata": {},
     "output_type": "display_data"
    }
   ],
   "source": [
    "consistency.at['test data', 'original'] = dataTs_metric.consistency()\n",
    "consistency.at['test data', 'ignore_protected'] = dataTs_metric.consistency(ignore_protected=True)\n",
    "\n",
    "consistency.at['test model', 'original'] = modelTs_metric.consistency()\n",
    "consistency.at['test model', 'ignore_protected'] = modelTs_metric.consistency(ignore_protected=True)\n",
    "\n",
    "display(consistency)"
   ]
  },
  {
   "cell_type": "markdown",
   "metadata": {},
   "source": [
    "### 6.9 Comments\n",
    "\n",
    "\n",
    "\n",
    "### 6.10 Check error metrics (on test set)"
   ]
  },
  {
   "cell_type": "code",
   "execution_count": 39,
   "metadata": {},
   "outputs": [
    {
     "data": {
      "text/html": [
       "<div>\n",
       "<style scoped>\n",
       "    .dataframe tbody tr th:only-of-type {\n",
       "        vertical-align: middle;\n",
       "    }\n",
       "\n",
       "    .dataframe tbody tr th {\n",
       "        vertical-align: top;\n",
       "    }\n",
       "\n",
       "    .dataframe thead th {\n",
       "        text-align: right;\n",
       "    }\n",
       "</style>\n",
       "<table border=\"1\" class=\"dataframe\">\n",
       "  <thead>\n",
       "    <tr style=\"text-align: right;\">\n",
       "      <th></th>\n",
       "      <th>female</th>\n",
       "      <th>male</th>\n",
       "      <th>difference</th>\n",
       "      <th>ratio</th>\n",
       "    </tr>\n",
       "  </thead>\n",
       "  <tbody>\n",
       "    <tr>\n",
       "      <th>ACC</th>\n",
       "      <td>0.807692</td>\n",
       "      <td>0.783784</td>\n",
       "      <td>0.0239085</td>\n",
       "      <td>1.0305</td>\n",
       "    </tr>\n",
       "    <tr>\n",
       "      <th>ERR</th>\n",
       "      <td>0.192308</td>\n",
       "      <td>0.216216</td>\n",
       "      <td>-0.0239085</td>\n",
       "      <td>0.889423</td>\n",
       "    </tr>\n",
       "    <tr>\n",
       "      <th>FPR</th>\n",
       "      <td>0.380952</td>\n",
       "      <td>0.615385</td>\n",
       "      <td>-0.234432</td>\n",
       "      <td>0.619048</td>\n",
       "    </tr>\n",
       "    <tr>\n",
       "      <th>FNR</th>\n",
       "      <td>0.0645161</td>\n",
       "      <td>0.0733945</td>\n",
       "      <td>-0.00887837</td>\n",
       "      <td>0.879032</td>\n",
       "    </tr>\n",
       "    <tr>\n",
       "      <th>FDR</th>\n",
       "      <td>0.216216</td>\n",
       "      <td>0.192</td>\n",
       "      <td>0.0242162</td>\n",
       "      <td>1.12613</td>\n",
       "    </tr>\n",
       "    <tr>\n",
       "      <th>FOR</th>\n",
       "      <td>0.133333</td>\n",
       "      <td>0.347826</td>\n",
       "      <td>-0.214493</td>\n",
       "      <td>0.383333</td>\n",
       "    </tr>\n",
       "  </tbody>\n",
       "</table>\n",
       "</div>"
      ],
      "text/plain": [
       "        female       male  difference     ratio\n",
       "ACC   0.807692   0.783784   0.0239085    1.0305\n",
       "ERR   0.192308   0.216216  -0.0239085  0.889423\n",
       "FPR   0.380952   0.615385   -0.234432  0.619048\n",
       "FNR  0.0645161  0.0733945 -0.00887837  0.879032\n",
       "FDR   0.216216      0.192   0.0242162   1.12613\n",
       "FOR   0.133333   0.347826   -0.214493  0.383333"
      ]
     },
     "metadata": {},
     "output_type": "display_data"
    }
   ],
   "source": [
    "clf_metric = ClassificationMetric(data_ds,\n",
    "                                  model_ds,\n",
    "                                  privileged_groups = privileged_groups,\n",
    "                                  unprivileged_groups = unprivileged_groups)\n",
    "\n",
    "clfTr_metric = ClassificationMetric(dataTr_ds,\n",
    "                                    modelTr_ds,\n",
    "                                    privileged_groups = privileged_groups,\n",
    "                                    unprivileged_groups = unprivileged_groups)\n",
    "\n",
    "clfTs_metric = ClassificationMetric(dataTs_ds,\n",
    "                                    modelTs_ds,\n",
    "                                    privileged_groups = privileged_groups,\n",
    "                                    unprivileged_groups = unprivileged_groups)\n",
    "\n",
    "errors_df = pd.DataFrame(columns=['female', 'male', 'difference', 'ratio'],\n",
    "                         index=['ACC', 'ERR', 'FPR', 'FNR', 'FDR', 'FOR'])\n",
    "\n",
    "errors_df.at['ACC', 'female'] = clfTs_metric.accuracy(privileged=False)\n",
    "errors_df.at['ERR', 'female'] = clfTs_metric.error_rate(privileged=False)\n",
    "errors_df.at['FPR', 'female'] = clfTs_metric.false_positive_rate(privileged=False)\n",
    "errors_df.at['FNR', 'female'] = clfTs_metric.false_negative_rate(privileged=False)\n",
    "errors_df.at['FDR', 'female'] = clfTs_metric.false_discovery_rate(privileged=False)\n",
    "errors_df.at['FOR', 'female'] = clfTs_metric.false_omission_rate(privileged=False)\n",
    "\n",
    "errors_df.at['ACC', 'male'] = clfTs_metric.accuracy(privileged=True)\n",
    "errors_df.at['ERR', 'male'] = clfTs_metric.error_rate(privileged=True)\n",
    "errors_df.at['FPR', 'male'] = clfTs_metric.false_positive_rate(privileged=True)\n",
    "errors_df.at['FNR', 'male'] = clfTs_metric.false_negative_rate(privileged=True)\n",
    "errors_df.at['FDR', 'male'] = clfTs_metric.false_discovery_rate(privileged=True)\n",
    "errors_df.at['FOR', 'male'] = clfTs_metric.false_omission_rate(privileged=True)\n",
    "\n",
    "errors_df.at['ACC', 'difference'] = errors_df.at['ACC', 'female'] - errors_df.at['ACC', 'male']\n",
    "errors_df.at['ERR', 'difference'] = clfTs_metric.error_rate_difference()\n",
    "errors_df.at['FPR', 'difference'] = clfTs_metric.false_positive_rate_difference()\n",
    "errors_df.at['FNR', 'difference'] = clfTs_metric.false_negative_rate_difference()\n",
    "errors_df.at['FDR', 'difference'] = clfTs_metric.false_discovery_rate_difference()\n",
    "errors_df.at['FOR', 'difference'] = clfTs_metric.false_omission_rate_difference()\n",
    "\n",
    "errors_df.at['ACC', 'ratio'] = errors_df.at['ACC', 'female'] / errors_df.at['ACC', 'male']\n",
    "errors_df.at['ERR', 'ratio'] = clfTs_metric.error_rate_ratio()\n",
    "errors_df.at['FPR', 'ratio'] = clfTs_metric.false_positive_rate_ratio()\n",
    "errors_df.at['FNR', 'ratio'] = clfTs_metric.false_negative_rate_ratio()\n",
    "errors_df.at['FDR', 'ratio'] = clfTs_metric.false_discovery_rate_ratio()\n",
    "errors_df.at['FOR', 'ratio'] = clfTs_metric.false_omission_rate_ratio()\n",
    "\n",
    "display(errors_df)"
   ]
  },
  {
   "cell_type": "markdown",
   "metadata": {},
   "source": [
    "### 6.5 Comments\n",
    "\n",
    "- Error rates are higher for females\n",
    "\n",
    "## 7 Randomised predictions\n",
    "\n",
    "### 7.1 Exercise 1\n",
    "\n",
    "Write a function which maps the model score to the probability of acceptance. The function should take a two thresholds, t1 < t2. The probability of acceptance should be zero if the score is less than t1, one if the score is greater than t2 and increase linearly from zero to one for model scores between the two thresholds."
   ]
  },
  {
   "cell_type": "code",
   "execution_count": 40,
   "metadata": {},
   "outputs": [
    {
     "data": {
      "image/png": "[encoded data removed]",
      "text/plain": [
       "<Figure size 432x288 with 1 Axes>"
      ]
     },
     "metadata": {
      "needs_background": "light"
     },
     "output_type": "display_data"
    }
   ],
   "source": [
    "def accept_proability(score, t1=0.45, t2=0.55):\n",
    "    if score<=t1: return 0\n",
    "    if score>=t2: return 1\n",
    "    return (score-t1)/(t2-t1)\n",
    "\n",
    "# Check our function\n",
    "probs = np.linspace(0.4, 0.6, num=21)\n",
    "accept_probs = [accept_proability(p) for p in probs]\n",
    "plt.xlabel('score')\n",
    "plt.ylabel('acceptance probability')\n",
    "ax = plt.plot(probs, accept_probs)"
   ]
  },
  {
   "cell_type": "markdown",
   "metadata": {},
   "source": [
    "### 7.2 Exercise 2\n",
    "\n",
    "Write a function that takes a probability value p and outputs the value one with probability p and zero with probability 1 − p."
   ]
  },
  {
   "cell_type": "code",
   "execution_count": 41,
   "metadata": {},
   "outputs": [
    {
     "data": {
      "image/png": "[encoded data removed]",
      "text/plain": [
       "<Figure size 432x288 with 1 Axes>"
      ]
     },
     "metadata": {
      "needs_background": "light"
     },
     "output_type": "display_data"
    }
   ],
   "source": [
    "def predict(probability):\n",
    "    return int(random.random()<probability)\n",
    "\n",
    "# Check our function\n",
    "probs = np.linspace(0, 1, num=6)\n",
    "nrand = 1000000\n",
    "rands = [sum([predict(p) for i in range(nrand)])/nrand for p in probs]\n",
    "ax = plt.plot(probs, rands)"
   ]
  },
  {
   "cell_type": "markdown",
   "metadata": {},
   "source": [
    "### 7.3 Exercise 3\n",
    "\n",
    "Compose the functions above and use them to make randomised predictions from your model."
   ]
  },
  {
   "cell_type": "code",
   "execution_count": 42,
   "metadata": {},
   "outputs": [
    {
     "data": {
      "image/png": "[encoded data removed]",
      "text/plain": [
       "<Figure size 432x288 with 1 Axes>"
      ]
     },
     "metadata": {
      "needs_background": "light"
     },
     "output_type": "display_data"
    }
   ],
   "source": [
    "def model_prediction(model_score, t1=0.45, t2=0.55):\n",
    "    return predict(accept_proability(model_score, t1,t2))\n",
    "\n",
    "# Check our function\n",
    "probs = np.linspace(0.4, 0.6, num=21)\n",
    "rands = [sum([model_prediction(p) for i in range(nrand)])/nrand for p in probs]\n",
    "plt.xlabel('score')\n",
    "plt.ylabel('acceptance probability')\n",
    "ax = plt.plot(probs, rands)"
   ]
  },
  {
   "cell_type": "markdown",
   "metadata": {},
   "source": [
    "## 8 Inequality Indices\n",
    "\n",
    "Functions in AIF360:\n",
    "\n",
    "generalized entropy index\n",
    "- `generalized_entropy_index`\n",
    "- `between_group_generalized_entropy_index`\n",
    "- `between_all_groups_generalized_entropy_index`\n",
    "\n",
    "coefficient of variation\n",
    "- `coefficient_of_variation`\n",
    "- `between_group_coefficient_of_variation`\n",
    "- `between_all_groups_coefficient_of_variation`\n",
    "\n",
    "theil index\n",
    "- `theil_index`\n",
    "- `between_group_theil_index`\n",
    "- `between_all_groups_theil_index`\n",
    "\n",
    "Things we can look at:\n",
    "- Index values for different benefit functions\n",
    "  - Investigate behaviour of the indices for dummy binary benefits\n",
    "  - 7 different benefit function in the table\n",
    "  - Look at how the index changes as we increase the false positive benefit\n",
    "  - Look at how the index changes as we increase the number of protected groups\n",
    "  \n",
    "### 8.1 Generalized Entropy Index Behaviour"
   ]
  },
  {
   "cell_type": "code",
   "execution_count": 43,
   "metadata": {},
   "outputs": [
    {
     "data": {
      "image/png": "[encoded data removed]",
      "text/plain": [
       "<Figure size 432x288 with 1 Axes>"
      ]
     },
     "metadata": {
      "needs_background": "light"
     },
     "output_type": "display_data"
    },
    {
     "data": {
      "image/png": "[encoded data removed]",
      "text/plain": [
       "<Figure size 432x288 with 1 Axes>"
      ]
     },
     "metadata": {
      "needs_background": "light"
     },
     "output_type": "display_data"
    },
    {
     "data": {
      "image/png": "[encoded data removed]",
      "text/plain": [
       "<Figure size 432x288 with 1 Axes>"
      ]
     },
     "metadata": {
      "needs_background": "light"
     },
     "output_type": "display_data"
    },
    {
     "data": {
      "image/png": "[encoded data removed]",
      "text/plain": [
       "<Figure size 432x288 with 1 Axes>"
      ]
     },
     "metadata": {
      "needs_background": "light"
     },
     "output_type": "display_data"
    }
   ],
   "source": [
    "def compare_indices(base, n):\n",
    "    b   = base*np.ones(n)\n",
    "    gei = np.zeros(n+1)\n",
    "    thi = np.zeros(n+1)\n",
    "    #cov = np.zeros(n+1)\n",
    "    for i in range(n):\n",
    "        b[i] += 1\n",
    "        gei[i+1] = clf_metric._generalized_entropy_index(b)\n",
    "        thi[i+1] = clf_metric._generalized_entropy_index(b, alpha=1)\n",
    "        #cov[i+1] = 2*math.sqrt(gei[i+1])\n",
    "    compare_lines(np.array(range(n+1)),\n",
    "                  x_label='Number of '+str(base+1)+'s', y_label='Index value',\n",
    "                  lines=[gei, thi], labels=[r'$\\alpha=2$',r'$\\alpha=1$'],\n",
    "                  title=None, filename='GEIbehave_b'+str(base)+'_n'+str(n))\n",
    "\n",
    "compare_indices(0,10)\n",
    "compare_indices(0,20)\n",
    "compare_indices(1,10)\n",
    "compare_indices(1,20)"
   ]
  },
  {
   "cell_type": "code",
   "execution_count": 44,
   "metadata": {},
   "outputs": [
    {
     "name": "stdout",
     "output_type": "stream",
     "text": [
      "0.5\n",
      "0.5\n",
      "0.5\n"
     ]
    }
   ],
   "source": [
    "# Generalized entropy index is scale invariant\n",
    "b = np.array([1,0])\n",
    "print(clf_metric._generalized_entropy_index(b))\n",
    "b = np.array([10,0])\n",
    "print(clf_metric._generalized_entropy_index(b))\n",
    "b = np.array([10000000000000000000000000,2])\n",
    "print(clf_metric._generalized_entropy_index(b))"
   ]
  },
  {
   "cell_type": "markdown",
   "metadata": {},
   "source": [
    "### 8.2 Comments\n",
    "\n",
    "- How you define your benefit function is important!\n",
    "- Be careful choosing a base benefit of zero.\n",
    "- Index is maximal when only one individual has a non-zero benefit.\n",
    "- I_max = (n - 1) / 2\n",
    "\n",
    "### 8.3 Generalized Entropy Index and the Between Group Component for Different Benefit Functions"
   ]
  },
  {
   "cell_type": "code",
   "execution_count": 45,
   "metadata": {},
   "outputs": [
    {
     "name": "stdout",
     "output_type": "stream",
     "text": [
      "generalized_entropy_index\n",
      "0.027687638964004512\n",
      "0.027687638964004512\n",
      "\n",
      "between_group_generalized_entropy_index\n",
      "2.5600434486933165e-06\n",
      "2.5600434486933165e-06\n",
      "\n",
      "between_all_groups_generalized_entropy_index\n",
      "3.0351488086868717e-05\n",
      "3.0351488086868717e-05\n"
     ]
    }
   ],
   "source": [
    "# Some quick tests after adding the generic benefit function to AIF360\n",
    "\n",
    "UNI_bf = {'TP':1, 'TN':1, 'FP':2, 'FN':0} # unified approach\n",
    "\n",
    "print('generalized_entropy_index')\n",
    "print(clf_metric.generalized_entropy_index())\n",
    "print(clf_metric.generalized_entropy_index(benefit_function=UNI_bf))\n",
    "print()\n",
    "print('between_group_generalized_entropy_index')\n",
    "print(clf_metric.between_group_generalized_entropy_index())\n",
    "print(clf_metric.between_group_generalized_entropy_index(benefit_function=UNI_bf))\n",
    "print()\n",
    "\n",
    "\n",
    "privileged2_groups = [{'male':1, 'age>=30':1}]\n",
    "unprivileged2_groups = [{'male':0}, {'age>=30':0}]\n",
    "\n",
    "data2_ds = BinaryLabelDataset(df = data_df[['male', 'age>=30', 'goodcredit']],\n",
    "                              label_names = ['goodcredit'],\n",
    "                              protected_attribute_names = ['male', 'age>=30'])\n",
    "\n",
    "clf = GradientBoostingClassifier(max_depth=7, max_features='auto', min_samples_leaf=20)\n",
    "clf.fit(X, y)\n",
    "model2_df = pd.concat([X[['male', 'age>=30']],\n",
    "                       pd.Series(clf.predict(X), name='goodcredit')], axis=1)\n",
    "\n",
    "model2_ds = BinaryLabelDataset(df = model2_df,\n",
    "                               label_names = ['goodcredit'],\n",
    "                               protected_attribute_names = ['male', 'age>=30'])\n",
    "\n",
    "clf2_metric = ClassificationMetric(data2_ds,\n",
    "                                   model2_ds,\n",
    "                                   privileged_groups = privileged2_groups,\n",
    "                                   unprivileged_groups = unprivileged2_groups)\n",
    "print('between_all_groups_generalized_entropy_index')\n",
    "print(clf2_metric.between_all_groups_generalized_entropy_index())\n",
    "print(clf2_metric.between_all_groups_generalized_entropy_index(benefit_function=UNI_bf))"
   ]
  },
  {
   "cell_type": "code",
   "execution_count": 46,
   "metadata": {},
   "outputs": [
    {
     "data": {
      "text/html": [
       "<div>\n",
       "<style scoped>\n",
       "    .dataframe tbody tr th:only-of-type {\n",
       "        vertical-align: middle;\n",
       "    }\n",
       "\n",
       "    .dataframe tbody tr th {\n",
       "        vertical-align: top;\n",
       "    }\n",
       "\n",
       "    .dataframe thead th {\n",
       "        text-align: right;\n",
       "    }\n",
       "</style>\n",
       "<table border=\"1\" class=\"dataframe\">\n",
       "  <thead>\n",
       "    <tr style=\"text-align: right;\">\n",
       "      <th></th>\n",
       "      <th>gei_index</th>\n",
       "      <th>gei_group</th>\n",
       "      <th>gei_frac</th>\n",
       "      <th>th_index</th>\n",
       "      <th>th_group</th>\n",
       "      <th>th_frac</th>\n",
       "    </tr>\n",
       "  </thead>\n",
       "  <tbody>\n",
       "    <tr>\n",
       "      <th>test data</th>\n",
       "      <td>0.214286</td>\n",
       "      <td>0.00386631</td>\n",
       "      <td>0.0180428</td>\n",
       "      <td>0.356675</td>\n",
       "      <td>0.0040023</td>\n",
       "      <td>0.0112211</td>\n",
       "    </tr>\n",
       "    <tr>\n",
       "      <th>test model</th>\n",
       "      <td>0.117284</td>\n",
       "      <td>0.00259582</td>\n",
       "      <td>0.0221328</td>\n",
       "      <td>0.210721</td>\n",
       "      <td>0.00266935</td>\n",
       "      <td>0.0126677</td>\n",
       "    </tr>\n",
       "    <tr>\n",
       "      <th>ACC</th>\n",
       "      <td>0.132911</td>\n",
       "      <td>8.81102e-05</td>\n",
       "      <td>0.000662925</td>\n",
       "      <td>0.235722</td>\n",
       "      <td>8.76892e-05</td>\n",
       "      <td>0.000372002</td>\n",
       "    </tr>\n",
       "    <tr>\n",
       "      <th>ERR</th>\n",
       "      <td>1.88095</td>\n",
       "      <td>0.00124693</td>\n",
       "      <td>0.000662925</td>\n",
       "      <td>1.56065</td>\n",
       "      <td>0.00127084</td>\n",
       "      <td>0.000814303</td>\n",
       "    </tr>\n",
       "    <tr>\n",
       "      <th>FPR</th>\n",
       "      <td>0.571429</td>\n",
       "      <td>0.028706</td>\n",
       "      <td>0.0502355</td>\n",
       "      <td>0.76214</td>\n",
       "      <td>0.0276</td>\n",
       "      <td>0.0362138</td>\n",
       "    </tr>\n",
       "    <tr>\n",
       "      <th>FNR</th>\n",
       "      <td>0.0384615</td>\n",
       "      <td>7.88021e-06</td>\n",
       "      <td>0.000204885</td>\n",
       "      <td>0.074108</td>\n",
       "      <td>7.86627e-06</td>\n",
       "      <td>0.000106146</td>\n",
       "    </tr>\n",
       "    <tr>\n",
       "      <th>FDR</th>\n",
       "      <td>0.123077</td>\n",
       "      <td>8.02431e-05</td>\n",
       "      <td>0.000651975</td>\n",
       "      <td>0.220062</td>\n",
       "      <td>8.06874e-05</td>\n",
       "      <td>0.000366658</td>\n",
       "    </tr>\n",
       "    <tr>\n",
       "      <th>FOR</th>\n",
       "      <td>0.178571</td>\n",
       "      <td>0.0101227</td>\n",
       "      <td>0.0566874</td>\n",
       "      <td>0.305382</td>\n",
       "      <td>0.00995411</td>\n",
       "      <td>0.0325956</td>\n",
       "    </tr>\n",
       "    <tr>\n",
       "      <th>UNI</th>\n",
       "      <td>0.08031</td>\n",
       "      <td>4.13404e-06</td>\n",
       "      <td>5.1476e-05</td>\n",
       "      <td>0.0954662</td>\n",
       "      <td>4.12972e-06</td>\n",
       "      <td>4.32585e-05</td>\n",
       "    </tr>\n",
       "  </tbody>\n",
       "</table>\n",
       "</div>"
      ],
      "text/plain": [
       "            gei_index    gei_group     gei_frac   th_index     th_group  \\\n",
       "test data    0.214286   0.00386631    0.0180428   0.356675    0.0040023   \n",
       "test model   0.117284   0.00259582    0.0221328   0.210721   0.00266935   \n",
       "ACC          0.132911  8.81102e-05  0.000662925   0.235722  8.76892e-05   \n",
       "ERR           1.88095   0.00124693  0.000662925    1.56065   0.00127084   \n",
       "FPR          0.571429     0.028706    0.0502355    0.76214       0.0276   \n",
       "FNR         0.0384615  7.88021e-06  0.000204885   0.074108  7.86627e-06   \n",
       "FDR          0.123077  8.02431e-05  0.000651975   0.220062  8.06874e-05   \n",
       "FOR          0.178571    0.0101227    0.0566874   0.305382   0.00995411   \n",
       "UNI           0.08031  4.13404e-06   5.1476e-05  0.0954662  4.12972e-06   \n",
       "\n",
       "                th_frac  \n",
       "test data     0.0112211  \n",
       "test model    0.0126677  \n",
       "ACC         0.000372002  \n",
       "ERR         0.000814303  \n",
       "FPR           0.0362138  \n",
       "FNR         0.000106146  \n",
       "FDR         0.000366658  \n",
       "FOR           0.0325956  \n",
       "UNI         4.32585e-05  "
      ]
     },
     "metadata": {},
     "output_type": "display_data"
    },
    {
     "data": {
      "text/html": [
       "<div>\n",
       "<style scoped>\n",
       "    .dataframe tbody tr th:only-of-type {\n",
       "        vertical-align: middle;\n",
       "    }\n",
       "\n",
       "    .dataframe tbody tr th {\n",
       "        vertical-align: top;\n",
       "    }\n",
       "\n",
       "    .dataframe thead th {\n",
       "        text-align: right;\n",
       "    }\n",
       "</style>\n",
       "<table border=\"1\" class=\"dataframe\">\n",
       "  <thead>\n",
       "    <tr style=\"text-align: right;\">\n",
       "      <th></th>\n",
       "      <th>female</th>\n",
       "      <th>male</th>\n",
       "      <th>difference</th>\n",
       "      <th>ratio</th>\n",
       "    </tr>\n",
       "  </thead>\n",
       "  <tbody>\n",
       "    <tr>\n",
       "      <th>ACC</th>\n",
       "      <td>0.807692</td>\n",
       "      <td>0.783784</td>\n",
       "      <td>0.0239085</td>\n",
       "      <td>1.0305</td>\n",
       "    </tr>\n",
       "    <tr>\n",
       "      <th>ERR</th>\n",
       "      <td>0.192308</td>\n",
       "      <td>0.216216</td>\n",
       "      <td>-0.0239085</td>\n",
       "      <td>0.889423</td>\n",
       "    </tr>\n",
       "    <tr>\n",
       "      <th>FPR</th>\n",
       "      <td>0.380952</td>\n",
       "      <td>0.615385</td>\n",
       "      <td>-0.234432</td>\n",
       "      <td>0.619048</td>\n",
       "    </tr>\n",
       "    <tr>\n",
       "      <th>FNR</th>\n",
       "      <td>0.0645161</td>\n",
       "      <td>0.0733945</td>\n",
       "      <td>-0.00887837</td>\n",
       "      <td>0.879032</td>\n",
       "    </tr>\n",
       "    <tr>\n",
       "      <th>FDR</th>\n",
       "      <td>0.216216</td>\n",
       "      <td>0.192</td>\n",
       "      <td>0.0242162</td>\n",
       "      <td>1.12613</td>\n",
       "    </tr>\n",
       "    <tr>\n",
       "      <th>FOR</th>\n",
       "      <td>0.133333</td>\n",
       "      <td>0.347826</td>\n",
       "      <td>-0.214493</td>\n",
       "      <td>0.383333</td>\n",
       "    </tr>\n",
       "  </tbody>\n",
       "</table>\n",
       "</div>"
      ],
      "text/plain": [
       "        female       male  difference     ratio\n",
       "ACC   0.807692   0.783784   0.0239085    1.0305\n",
       "ERR   0.192308   0.216216  -0.0239085  0.889423\n",
       "FPR   0.380952   0.615385   -0.234432  0.619048\n",
       "FNR  0.0645161  0.0733945 -0.00887837  0.879032\n",
       "FDR   0.216216      0.192   0.0242162   1.12613\n",
       "FOR   0.133333   0.347826   -0.214493  0.383333"
      ]
     },
     "metadata": {},
     "output_type": "display_data"
    },
    {
     "data": {
      "text/html": [
       "<div>\n",
       "<style scoped>\n",
       "    .dataframe tbody tr th:only-of-type {\n",
       "        vertical-align: middle;\n",
       "    }\n",
       "\n",
       "    .dataframe tbody tr th {\n",
       "        vertical-align: top;\n",
       "    }\n",
       "\n",
       "    .dataframe thead th {\n",
       "        text-align: right;\n",
       "    }\n",
       "</style>\n",
       "<table border=\"1\" class=\"dataframe\">\n",
       "  <thead>\n",
       "    <tr style=\"text-align: right;\">\n",
       "      <th></th>\n",
       "      <th>female</th>\n",
       "      <th>male</th>\n",
       "      <th>difference</th>\n",
       "      <th>ratio</th>\n",
       "    </tr>\n",
       "  </thead>\n",
       "  <tbody>\n",
       "    <tr>\n",
       "      <th>data</th>\n",
       "      <td>0.648387</td>\n",
       "      <td>0.723188</td>\n",
       "      <td>-0.0748013</td>\n",
       "      <td>0.896567</td>\n",
       "    </tr>\n",
       "    <tr>\n",
       "      <th>model</th>\n",
       "      <td>0.683871</td>\n",
       "      <td>0.753623</td>\n",
       "      <td>-0.0697522</td>\n",
       "      <td>0.907444</td>\n",
       "    </tr>\n",
       "    <tr>\n",
       "      <th>train data</th>\n",
       "      <td>0.658915</td>\n",
       "      <td>0.719557</td>\n",
       "      <td>-0.0606425</td>\n",
       "      <td>0.915723</td>\n",
       "    </tr>\n",
       "    <tr>\n",
       "      <th>train model</th>\n",
       "      <td>0.678295</td>\n",
       "      <td>0.728782</td>\n",
       "      <td>-0.0504877</td>\n",
       "      <td>0.930723</td>\n",
       "    </tr>\n",
       "    <tr>\n",
       "      <th>test data</th>\n",
       "      <td>0.596154</td>\n",
       "      <td>0.736486</td>\n",
       "      <td>-0.140333</td>\n",
       "      <td>0.809457</td>\n",
       "    </tr>\n",
       "    <tr>\n",
       "      <th>test model</th>\n",
       "      <td>0.711538</td>\n",
       "      <td>0.844595</td>\n",
       "      <td>-0.133056</td>\n",
       "      <td>0.842462</td>\n",
       "    </tr>\n",
       "  </tbody>\n",
       "</table>\n",
       "</div>"
      ],
      "text/plain": [
       "               female      male difference     ratio\n",
       "data         0.648387  0.723188 -0.0748013  0.896567\n",
       "model        0.683871  0.753623 -0.0697522  0.907444\n",
       "train data   0.658915  0.719557 -0.0606425  0.915723\n",
       "train model  0.678295  0.728782 -0.0504877  0.930723\n",
       "test data    0.596154  0.736486  -0.140333  0.809457\n",
       "test model   0.711538  0.844595  -0.133056  0.842462"
      ]
     },
     "metadata": {},
     "output_type": "display_data"
    }
   ],
   "source": [
    "data_bf  = {'TP':1, 'TN':0, 'FP':0, 'FN':1} # equal acceptance rate in data (independence in data)\n",
    "model_bf = {'TP':1, 'TN':0, 'FP':1, 'FN':0} # equal acceptance rate in model independence in model)\n",
    "\n",
    "ACC_bf = {'TP':1, 'TN':1, 'FP':0, 'FN':0} # equal accuracy\n",
    "ERR_bf = {'TP':0, 'TN':0, 'FP':1, 'FN':1} # equal error rate (for testing only - not a valid benefit function)\n",
    "FPR_bf = {        'TN':1, 'FP':0        } # equal false positive rate\n",
    "FNR_bf = {'TP':1,                 'FN':0} # equal false negative rate\n",
    "FDR_bf = {'TP':1,         'FP':0        } # equal false discovery rate\n",
    "FOR_bf = {        'TN':1,         'FN':0} # equal false omission rate\n",
    "\n",
    "gei_df = pd.DataFrame(columns=['gei_index', 'gei_group', 'gei_frac', 'th_index', 'th_group', 'th_frac'],\n",
    "                        index=['data', 'model', 'ACC', 'ERR', 'FPR', 'FNR', 'FDR', 'FOR', 'UNI'])\n",
    "\n",
    "for row in gei_df.index:\n",
    "    gei_df.at[row, 'gei_index'] = clfTs_metric.generalized_entropy_index(benefit_function=eval(row+'_bf'))\n",
    "    gei_df.at[row, 'gei_group'] = clfTs_metric.between_group_generalized_entropy_index(benefit_function=eval(row+'_bf'))\n",
    "    gei_df.at[row, 'gei_frac'] = gei_df.gei_group[row] / gei_df.gei_index[row]\n",
    "    gei_df.at[row, 'th_index'] = clfTs_metric.theil_index(benefit_function=eval(row+'_bf'))\n",
    "    gei_df.at[row, 'th_group'] = clfTs_metric.between_group_theil_index(benefit_function=eval(row+'_bf'))\n",
    "    gei_df.at[row, 'th_frac'] = gei_df.th_group[row] / gei_df.th_index[row]\n",
    "\n",
    "gei_df = gei_df.rename(index={'data':'test data', 'model':'test model'})\n",
    "\n",
    "display(gei_df)\n",
    "display(errors_df)\n",
    "display(outcomes_df)\n",
    "\n",
    "comparison_df = pd.DataFrame()"
   ]
  },
  {
   "cell_type": "code",
   "execution_count": 62,
   "metadata": {},
   "outputs": [
    {
     "data": {
      "text/html": [
       "<div>\n",
       "<style scoped>\n",
       "    .dataframe tbody tr th:only-of-type {\n",
       "        vertical-align: middle;\n",
       "    }\n",
       "\n",
       "    .dataframe tbody tr th {\n",
       "        vertical-align: top;\n",
       "    }\n",
       "\n",
       "    .dataframe thead th {\n",
       "        text-align: right;\n",
       "    }\n",
       "</style>\n",
       "<table border=\"1\" class=\"dataframe\">\n",
       "  <thead>\n",
       "    <tr style=\"text-align: right;\">\n",
       "      <th></th>\n",
       "      <th>female</th>\n",
       "      <th>male</th>\n",
       "      <th>difference</th>\n",
       "      <th>ratio</th>\n",
       "      <th>gei_group</th>\n",
       "      <th>gei_frac</th>\n",
       "    </tr>\n",
       "  </thead>\n",
       "  <tbody>\n",
       "    <tr>\n",
       "      <th>test data</th>\n",
       "      <td>0.596154</td>\n",
       "      <td>0.736486</td>\n",
       "      <td>-0.140333</td>\n",
       "      <td>0.809457</td>\n",
       "      <td>0.00386631</td>\n",
       "      <td>0.0180428</td>\n",
       "    </tr>\n",
       "    <tr>\n",
       "      <th>test model</th>\n",
       "      <td>0.711538</td>\n",
       "      <td>0.844595</td>\n",
       "      <td>-0.133056</td>\n",
       "      <td>0.842462</td>\n",
       "      <td>0.00259582</td>\n",
       "      <td>0.0221328</td>\n",
       "    </tr>\n",
       "    <tr>\n",
       "      <th>ACC</th>\n",
       "      <td>0.807692</td>\n",
       "      <td>0.783784</td>\n",
       "      <td>0.0239085</td>\n",
       "      <td>1.0305</td>\n",
       "      <td>8.81102e-05</td>\n",
       "      <td>0.000662925</td>\n",
       "    </tr>\n",
       "    <tr>\n",
       "      <th>ERR</th>\n",
       "      <td>0.192308</td>\n",
       "      <td>0.216216</td>\n",
       "      <td>-0.0239085</td>\n",
       "      <td>0.889423</td>\n",
       "      <td>0.00124693</td>\n",
       "      <td>0.000662925</td>\n",
       "    </tr>\n",
       "    <tr>\n",
       "      <th>FPR</th>\n",
       "      <td>0.380952</td>\n",
       "      <td>0.615385</td>\n",
       "      <td>-0.234432</td>\n",
       "      <td>0.619048</td>\n",
       "      <td>0.028706</td>\n",
       "      <td>0.0502355</td>\n",
       "    </tr>\n",
       "    <tr>\n",
       "      <th>FNR</th>\n",
       "      <td>0.0645161</td>\n",
       "      <td>0.0733945</td>\n",
       "      <td>-0.00887837</td>\n",
       "      <td>0.879032</td>\n",
       "      <td>7.88021e-06</td>\n",
       "      <td>0.000204885</td>\n",
       "    </tr>\n",
       "    <tr>\n",
       "      <th>FDR</th>\n",
       "      <td>0.216216</td>\n",
       "      <td>0.192</td>\n",
       "      <td>0.0242162</td>\n",
       "      <td>1.12613</td>\n",
       "      <td>8.02431e-05</td>\n",
       "      <td>0.000651975</td>\n",
       "    </tr>\n",
       "    <tr>\n",
       "      <th>FOR</th>\n",
       "      <td>0.133333</td>\n",
       "      <td>0.347826</td>\n",
       "      <td>-0.214493</td>\n",
       "      <td>0.383333</td>\n",
       "      <td>0.0101227</td>\n",
       "      <td>0.0566874</td>\n",
       "    </tr>\n",
       "  </tbody>\n",
       "</table>\n",
       "</div>"
      ],
      "text/plain": [
       "               female       male  difference     ratio    gei_group  \\\n",
       "test data    0.596154   0.736486   -0.140333  0.809457   0.00386631   \n",
       "test model   0.711538   0.844595   -0.133056  0.842462   0.00259582   \n",
       "ACC          0.807692   0.783784   0.0239085    1.0305  8.81102e-05   \n",
       "ERR          0.192308   0.216216  -0.0239085  0.889423   0.00124693   \n",
       "FPR          0.380952   0.615385   -0.234432  0.619048     0.028706   \n",
       "FNR         0.0645161  0.0733945 -0.00887837  0.879032  7.88021e-06   \n",
       "FDR          0.216216      0.192   0.0242162   1.12613  8.02431e-05   \n",
       "FOR          0.133333   0.347826   -0.214493  0.383333    0.0101227   \n",
       "\n",
       "               gei_frac  \n",
       "test data     0.0180428  \n",
       "test model    0.0221328  \n",
       "ACC         0.000662925  \n",
       "ERR         0.000662925  \n",
       "FPR           0.0502355  \n",
       "FNR         0.000204885  \n",
       "FDR         0.000651975  \n",
       "FOR           0.0566874  "
      ]
     },
     "metadata": {},
     "output_type": "display_data"
    },
    {
     "name": "stdout",
     "output_type": "stream",
     "text": [
      "diff_abs \t ['FNR', 'ACC', 'ERR', 'FDR', 'test model', 'test data', 'FOR', 'FPR']\n",
      "ratio_min \t ['FOR', 'FPR', 'test data', 'test model', 'FNR', 'FDR', 'ERR', 'ACC']\n",
      "gei_group \t ['FNR', 'FDR', 'ACC', 'ERR', 'test model', 'test data', 'FOR', 'FPR']\n",
      "gei_frac \t ['FNR', 'FDR', 'ACC', 'ERR', 'test data', 'test model', 'FPR', 'FOR']\n"
     ]
    },
    {
     "data": {
      "text/html": [
       "<div>\n",
       "<style scoped>\n",
       "    .dataframe tbody tr th:only-of-type {\n",
       "        vertical-align: middle;\n",
       "    }\n",
       "\n",
       "    .dataframe tbody tr th {\n",
       "        vertical-align: top;\n",
       "    }\n",
       "\n",
       "    .dataframe thead th {\n",
       "        text-align: right;\n",
       "    }\n",
       "</style>\n",
       "<table border=\"1\" class=\"dataframe\">\n",
       "  <thead>\n",
       "    <tr style=\"text-align: right;\">\n",
       "      <th></th>\n",
       "      <th>diff_abs</th>\n",
       "      <th>ratio_min</th>\n",
       "      <th>gei_group</th>\n",
       "      <th>gei_frac</th>\n",
       "    </tr>\n",
       "  </thead>\n",
       "  <tbody>\n",
       "    <tr>\n",
       "      <th>test data</th>\n",
       "      <td>0.140333</td>\n",
       "      <td>0.809457</td>\n",
       "      <td>0.00386631</td>\n",
       "      <td>0.0180428</td>\n",
       "    </tr>\n",
       "    <tr>\n",
       "      <th>test model</th>\n",
       "      <td>0.133056</td>\n",
       "      <td>0.842462</td>\n",
       "      <td>0.00259582</td>\n",
       "      <td>0.0221328</td>\n",
       "    </tr>\n",
       "    <tr>\n",
       "      <th>ACC</th>\n",
       "      <td>0.0239085</td>\n",
       "      <td>0.970399</td>\n",
       "      <td>8.81102e-05</td>\n",
       "      <td>0.000662925</td>\n",
       "    </tr>\n",
       "    <tr>\n",
       "      <th>ERR</th>\n",
       "      <td>0.0239085</td>\n",
       "      <td>0.889423</td>\n",
       "      <td>0.00124693</td>\n",
       "      <td>0.000662925</td>\n",
       "    </tr>\n",
       "    <tr>\n",
       "      <th>FPR</th>\n",
       "      <td>0.234432</td>\n",
       "      <td>0.619048</td>\n",
       "      <td>0.028706</td>\n",
       "      <td>0.0502355</td>\n",
       "    </tr>\n",
       "    <tr>\n",
       "      <th>FNR</th>\n",
       "      <td>0.00887837</td>\n",
       "      <td>0.879032</td>\n",
       "      <td>7.88021e-06</td>\n",
       "      <td>0.000204885</td>\n",
       "    </tr>\n",
       "    <tr>\n",
       "      <th>FDR</th>\n",
       "      <td>0.0242162</td>\n",
       "      <td>0.888000</td>\n",
       "      <td>8.02431e-05</td>\n",
       "      <td>0.000651975</td>\n",
       "    </tr>\n",
       "    <tr>\n",
       "      <th>FOR</th>\n",
       "      <td>0.214493</td>\n",
       "      <td>0.383333</td>\n",
       "      <td>0.0101227</td>\n",
       "      <td>0.0566874</td>\n",
       "    </tr>\n",
       "  </tbody>\n",
       "</table>\n",
       "</div>"
      ],
      "text/plain": [
       "              diff_abs  ratio_min    gei_group     gei_frac\n",
       "test data     0.140333   0.809457   0.00386631    0.0180428\n",
       "test model    0.133056   0.842462   0.00259582    0.0221328\n",
       "ACC          0.0239085   0.970399  8.81102e-05  0.000662925\n",
       "ERR          0.0239085   0.889423   0.00124693  0.000662925\n",
       "FPR           0.234432   0.619048     0.028706    0.0502355\n",
       "FNR         0.00887837   0.879032  7.88021e-06  0.000204885\n",
       "FDR          0.0242162   0.888000  8.02431e-05  0.000651975\n",
       "FOR           0.214493   0.383333    0.0101227    0.0566874"
      ]
     },
     "metadata": {},
     "output_type": "display_data"
    }
   ],
   "source": [
    "group_df = pd.concat([outcomes_df.loc[['test data', 'test model']],errors_df])\n",
    "index_df = gei_df[['gei_group', 'gei_frac']].loc[['test data', 'test model', 'ACC', 'ERR', 'FPR', 'FNR', 'FDR', 'FOR']]\n",
    "compare_df = pd.concat([group_df, index_df], axis=1)\n",
    "\n",
    "display(compare_df)\n",
    "\n",
    "compare_df['ratio_min'] = 1/compare_df.ratio\n",
    "compare_df['ratio_min'] = compare_df[['ratio', 'ratio_min']].min(axis=1)\n",
    "compare_df['diff_abs'] = np.abs(compare_df['difference'])\n",
    "\n",
    "cols = ['diff_abs', 'ratio_min', 'gei_group', 'gei_frac']\n",
    "for col in cols:\n",
    "    print(col, '\\t', list(compare_df[col].sort_values().index))\n",
    "\n",
    "display(compare_df[cols])"
   ]
  },
  {
   "cell_type": "markdown",
   "metadata": {},
   "source": [
    "### 8.2 Comments\n",
    "\n",
    "- The between group componant of the generalized entropy index is very small part of the index value\n",
    "- When we compare the between group component of the generalized entropy index with the error rates for the privileged and unprivileged groups the relative fairness metrics do not align in terms of order, because the generalized entropy index accounts for the relative sizes of the groups.\n",
    "- The between group component as a proportion of the index is the same for ERR and ACC, i.e. it stays the same if we switch zeros to ones and ones to zeros.\n",
    "\n",
    "### 8.3 Understanding the between group component of the generalised enropy index\n",
    "\n",
    "- For a partition of the population into g groups, the between group component is effectively the value of the inequality index for g individuals (one for each group), each of which has the mean benefit for their group but, the contribution of each individual is weighted by the prevalence of that group. See the computations below.\n",
    "- The computation below verifies the expression in the book which describes the between-group component of the index as a function of the mean benefits."
   ]
  },
  {
   "cell_type": "code",
   "execution_count": 48,
   "metadata": {},
   "outputs": [
    {
     "name": "stdout",
     "output_type": "stream",
     "text": [
      "\t male\t female\n",
      "data_df\t 690 \t 310\n",
      "X_train\t 542 \t 258\n",
      "X_test\t 148 \t 52\n",
      "\n",
      "Between group component gei data outcome\n",
      "0.0012212458615985166\n",
      "0.0012212458615985166\n",
      "\n",
      "Between group component gei model outcome\n",
      "0.0009711240372819141\n",
      "0.0009711240372819141\n",
      "\n",
      "Between group component gei test data - benefit based on accurate predictions\n",
      "8.811024673843981e-05\n",
      "8.811024673843981e-05\n"
     ]
    }
   ],
   "source": [
    "print('\\t','male\\t','female' )\n",
    "n_male = np.sum(data_df['male'][data_df['male']==1])\n",
    "n_female = len(data_df)-n_male\n",
    "print('data_df\\t', n_male, '\\t', n_female)\n",
    "\n",
    "nTr_male = np.sum(X_train['male'][X_train['male']==1])\n",
    "nTr_female = len(X_train)-nTr_male\n",
    "print('X_train\\t', nTr_male, '\\t', nTr_female)\n",
    "\n",
    "nTs_male = np.sum(X_test['male'][X_test['male']==1])\n",
    "nTs_female = len(X_test)-nTs_male\n",
    "print('X_test\\t', nTs_male, '\\t', nTs_female)\n",
    "print()\n",
    "\n",
    "print('Between group component gei data outcome')\n",
    "print(clf_metric._generalized_entropy_index(np.array(n_female*[outcomes_df.female['data']] +\n",
    "                                                     n_male*[outcomes_df.male['data']])))\n",
    "print(clf_metric.between_group_generalized_entropy_index(benefit_function=data_bf))\n",
    "print()\n",
    "\n",
    "print('Between group component gei model outcome')\n",
    "print(clf_metric._generalized_entropy_index(np.array(n_female*[outcomes_df.female['model']] +\n",
    "                                                     n_male*[outcomes_df.male['model']])))\n",
    "print(clf_metric.between_group_generalized_entropy_index(benefit_function=model_bf))\n",
    "print()\n",
    "\n",
    "print('Between group component gei test data - benefit based on accurate predictions')\n",
    "print(clfTs_metric._generalized_entropy_index(np.array(nTs_female*[errors_df.female['ACC']] +\n",
    "                                                       nTs_male*[errors_df.male['ACC']])))\n",
    "print(clfTs_metric.between_group_generalized_entropy_index(benefit_function=ACC_bf))"
   ]
  },
  {
   "cell_type": "code",
   "execution_count": 49,
   "metadata": {},
   "outputs": [
    {
     "name": "stdout",
     "output_type": "stream",
     "text": [
      "\t 1\t 0\n",
      "data_df\t 700 \t 300\n",
      "\n",
      "0.005699147354126413\n",
      "0.0056991473541263046\n"
     ]
    }
   ],
   "source": [
    "print('\\t','1\\t','0' )\n",
    "n_1 = np.sum(data_df['goodcredit'][data_df['goodcredit']==1])\n",
    "n_0 = len(data_df)-n_1\n",
    "print('data_df\\t', n_1, '\\t', n_0)\n",
    "\n",
    "print()\n",
    "print(clf_metric.between_group_generalized_entropy_index(benefit_function=data_bf)/\n",
    "      clf_metric.generalized_entropy_index(benefit_function=data_bf))\n",
    "print(n_female*n_male*(outcomes_df.male['data']-outcomes_df.female['data'])**2/n_1/n_0)"
   ]
  },
  {
   "cell_type": "markdown",
   "metadata": {},
   "source": [
    "### 8.4 Generalized Entropy Index as we Increase the FP benefit\n",
    "\n",
    "The benefit function that is studied in [A Unified Approach to Quantifying Algorithmic Unfairness: Measuring Individual & Group Unfairness via Inequality Indices](https://arxiv.org/abs/1807.00787) is shown below.\n",
    "\n",
    "**Benefit Function:**\n",
    "```\n",
    "           |       y       |\n",
    "           |   1   |   0   |\n",
    "| y_pred |1| TPB=1 | FPB=2 |\n",
    "|        |0| FNB=0 | TNB=1 |\n",
    "```\n",
    "\n",
    "Here we are interested in looking at how the generalised entropy index and it's between group componant change for our model as we increase the false positive benefit."
   ]
  },
  {
   "cell_type": "code",
   "execution_count": 60,
   "metadata": {
    "scrolled": false
   },
   "outputs": [
    {
     "data": {
      "text/html": [
       "<div>\n",
       "<style scoped>\n",
       "    .dataframe tbody tr th:only-of-type {\n",
       "        vertical-align: middle;\n",
       "    }\n",
       "\n",
       "    .dataframe tbody tr th {\n",
       "        vertical-align: top;\n",
       "    }\n",
       "\n",
       "    .dataframe thead th {\n",
       "        text-align: right;\n",
       "    }\n",
       "</style>\n",
       "<table border=\"1\" class=\"dataframe\">\n",
       "  <thead>\n",
       "    <tr style=\"text-align: right;\">\n",
       "      <th></th>\n",
       "      <th>gei</th>\n",
       "      <th>w_group</th>\n",
       "      <th>b_group</th>\n",
       "      <th>b_frac</th>\n",
       "    </tr>\n",
       "  </thead>\n",
       "  <tbody>\n",
       "    <tr>\n",
       "      <th>0</th>\n",
       "      <td>0.132911</td>\n",
       "      <td>0.132823</td>\n",
       "      <td>8.81102e-05</td>\n",
       "      <td>0.000662925</td>\n",
       "    </tr>\n",
       "    <tr>\n",
       "      <th>1</th>\n",
       "      <td>0.0263158</td>\n",
       "      <td>0.0262899</td>\n",
       "      <td>2.59155e-05</td>\n",
       "      <td>0.00098479</td>\n",
       "    </tr>\n",
       "    <tr>\n",
       "      <th>2</th>\n",
       "      <td>0.08031</td>\n",
       "      <td>0.0803059</td>\n",
       "      <td>4.13404e-06</td>\n",
       "      <td>5.1476e-05</td>\n",
       "    </tr>\n",
       "    <tr>\n",
       "      <th>3</th>\n",
       "      <td>0.191301</td>\n",
       "      <td>0.191301</td>\n",
       "      <td>6.44492e-08</td>\n",
       "      <td>3.36899e-07</td>\n",
       "    </tr>\n",
       "    <tr>\n",
       "      <th>4</th>\n",
       "      <td>0.319111</td>\n",
       "      <td>0.319107</td>\n",
       "      <td>4.11754e-06</td>\n",
       "      <td>1.29032e-05</td>\n",
       "    </tr>\n",
       "    <tr>\n",
       "      <th>5</th>\n",
       "      <td>0.447352</td>\n",
       "      <td>0.44734</td>\n",
       "      <td>1.18831e-05</td>\n",
       "      <td>2.65631e-05</td>\n",
       "    </tr>\n",
       "    <tr>\n",
       "      <th>6</th>\n",
       "      <td>0.569388</td>\n",
       "      <td>0.569367</td>\n",
       "      <td>2.12143e-05</td>\n",
       "      <td>3.72581e-05</td>\n",
       "    </tr>\n",
       "    <tr>\n",
       "      <th>7</th>\n",
       "      <td>0.682807</td>\n",
       "      <td>0.682776</td>\n",
       "      <td>3.10303e-05</td>\n",
       "      <td>4.54452e-05</td>\n",
       "    </tr>\n",
       "    <tr>\n",
       "      <th>8</th>\n",
       "      <td>0.787078</td>\n",
       "      <td>0.787037</td>\n",
       "      <td>4.07804e-05</td>\n",
       "      <td>5.18125e-05</td>\n",
       "    </tr>\n",
       "    <tr>\n",
       "      <th>9</th>\n",
       "      <td>0.882493</td>\n",
       "      <td>0.882443</td>\n",
       "      <td>5.01889e-05</td>\n",
       "      <td>5.68717e-05</td>\n",
       "    </tr>\n",
       "    <tr>\n",
       "      <th>10</th>\n",
       "      <td>0.969687</td>\n",
       "      <td>0.969628</td>\n",
       "      <td>5.9126e-05</td>\n",
       "      <td>6.09744e-05</td>\n",
       "    </tr>\n",
       "  </tbody>\n",
       "</table>\n",
       "</div>"
      ],
      "text/plain": [
       "          gei    w_group      b_group       b_frac\n",
       "0    0.132911   0.132823  8.81102e-05  0.000662925\n",
       "1   0.0263158  0.0262899  2.59155e-05   0.00098479\n",
       "2     0.08031  0.0803059  4.13404e-06   5.1476e-05\n",
       "3    0.191301   0.191301  6.44492e-08  3.36899e-07\n",
       "4    0.319111   0.319107  4.11754e-06  1.29032e-05\n",
       "5    0.447352    0.44734  1.18831e-05  2.65631e-05\n",
       "6    0.569388   0.569367  2.12143e-05  3.72581e-05\n",
       "7    0.682807   0.682776  3.10303e-05  4.54452e-05\n",
       "8    0.787078   0.787037  4.07804e-05  5.18125e-05\n",
       "9    0.882493   0.882443  5.01889e-05  5.68717e-05\n",
       "10   0.969687   0.969628   5.9126e-05  6.09744e-05"
      ]
     },
     "metadata": {},
     "output_type": "display_data"
    },
    {
     "data": {
      "image/png": "[encoded data removed]",
      "text/plain": [
       "<Figure size 432x288 with 2 Axes>"
      ]
     },
     "metadata": {
      "needs_background": "light"
     },
     "output_type": "display_data"
    },
    {
     "data": {
      "image/png": "[encoded data removed]",
      "text/plain": [
       "<Figure size 432x288 with 2 Axes>"
      ]
     },
     "metadata": {
      "needs_background": "light"
     },
     "output_type": "display_data"
    },
    {
     "data": {
      "image/png": "[encoded data removed]",
      "text/plain": [
       "<Figure size 432x288 with 2 Axes>"
      ]
     },
     "metadata": {
      "needs_background": "light"
     },
     "output_type": "display_data"
    }
   ],
   "source": [
    "def double_axes_plot(x, y1, y2, x_label, y1_label, y2_label, title=None, filename=None):\n",
    "    \"\"\"\n",
    "    Plot training and test values as a function of x.\n",
    "    \"\"\"\n",
    "    fig, ax = plt.subplots()\n",
    "    l1 = ax.plot(x, y1, color=\"#1f77b4\", label=y1_label)\n",
    "    ax.set_xlabel(x_label)\n",
    "    ax.set_ylabel(y1_label, color='#1f77b4')\n",
    "    ax2=ax.twinx()\n",
    "    l2 = ax2.plot(x,  y2, color=\"#ff7f0e\", label=y2_label)\n",
    "    ax2.set_ylabel(y2_label, color='#ff7f0e')\n",
    "    plt.title(title)\n",
    "    #lns = l1+l2\n",
    "    #labs = [y1_label, y2_label]\n",
    "    #ax.legend(lns, labs)\n",
    "    plt.tight_layout()\n",
    "    if filename:\n",
    "        plt.savefig('mbml_figures/Fig_'+filename+'.png')\n",
    "    plt.show()\n",
    "\n",
    "def increasing_FPB():\n",
    "    FPBs = list(range(11))\n",
    "    results_df = pd.DataFrame(columns=['gei', 'w_group', 'b_group', 'b_frac'], index=FPBs)\n",
    "    for b in FPBs:\n",
    "        bf = {'TP':1, 'TN':1, 'FP':b, 'FN':0}\n",
    "        results_df.at[b,'gei'] = clfTs_metric.generalized_entropy_index(benefit_function=bf)\n",
    "        results_df.at[b,'b_group'] = clfTs_metric.between_group_generalized_entropy_index(benefit_function=bf)\n",
    "        results_df.at[b,'w_group'] = results_df.at[b,'gei'] - results_df.at[b,'b_group']\n",
    "        results_df.at[b,'b_frac'] = results_df.at[b,'b_group'] / results_df.at[b,'gei']\n",
    "    display(results_df)\n",
    "    double_axes_plot(FPBs, results_df.gei, 1000*results_df.b_group,\n",
    "                     'False positive benefit', 'Index', r'$I_{\\beta}(b)\\times 10^{-3}$',\n",
    "                     filename='UnifiedVaryFPB_bgc')\n",
    "    double_axes_plot(FPBs, results_df.gei, results_df.w_group,\n",
    "                     'False positive benefit', 'Index', r'$I_{\\omega}(b)$',\n",
    "                     filename='UnifiedVaryFPB_wgc')\n",
    "    double_axes_plot(FPBs, results_df.gei, 1000*results_df.b_frac,\n",
    "                     'False positive benefit', 'Index', r'$[I_{\\beta}(b)\\times 10^{-3}]/I(b)$',\n",
    "                     filename='UnifiedVaryFPB_bgf')\n",
    "increasing_FPB()"
   ]
  },
  {
   "cell_type": "code",
   "execution_count": null,
   "metadata": {},
   "outputs": [],
   "source": []
  },
  {
   "cell_type": "code",
   "execution_count": null,
   "metadata": {},
   "outputs": [],
   "source": []
  },
  {
   "cell_type": "code",
   "execution_count": null,
   "metadata": {},
   "outputs": [],
   "source": []
  },
  {
   "cell_type": "code",
   "execution_count": null,
   "metadata": {},
   "outputs": [],
   "source": []
  },
  {
   "cell_type": "code",
   "execution_count": null,
   "metadata": {},
   "outputs": [],
   "source": []
  },
  {
   "cell_type": "markdown",
   "metadata": {},
   "source": [
    "# Appendices\n",
    "\n",
    "## A Code Testing\n",
    "\n",
    "### A.1 aif360.sklearn.metrics"
   ]
  },
  {
   "cell_type": "code",
   "execution_count": 51,
   "metadata": {},
   "outputs": [],
   "source": [
    "import numpy as np\n",
    "import pytest\n",
    "from numpy.testing import assert_almost_equal\n",
    "from sklearn.linear_model import LogisticRegression\n",
    "\n",
    "from aif360.datasets import AdultDataset\n",
    "from aif360.sklearn.datasets import fetch_adult\n",
    "from aif360.metrics import ClassificationMetric\n",
    "from aif360.sklearn.metrics import generalized_entropy_error\n",
    "from aif360.sklearn.metrics import  between_group_generalized_entropy_error\n",
    "\n",
    "\n",
    "X, y, sample_weight = fetch_adult(numeric_only=True)\n",
    "lr = LogisticRegression(solver='liblinear').fit(X, y, sample_weight=sample_weight)\n",
    "y_pred = lr.predict(X)\n",
    "y_proba = lr.predict_proba(X)[:, 1]\n",
    "adult = AdultDataset(instance_weights_name='fnlwgt', categorical_features=[],\n",
    "        features_to_keep=['age', 'education-num', 'capital-gain',\n",
    "                          'capital-loss', 'hours-per-week'],\n",
    "        features_to_drop=[])\n",
    "adult_pred = adult.copy()\n",
    "adult_pred.labels = y_pred\n",
    "adult_pred.scores = y_proba\n",
    "cm = ClassificationMetric(adult, adult_pred,\n",
    "                          unprivileged_groups=[{'sex': 0}],\n",
    "                          privileged_groups=[{'sex': 1}])"
   ]
  },
  {
   "cell_type": "code",
   "execution_count": 52,
   "metadata": {},
   "outputs": [
    {
     "name": "stdout",
     "output_type": "stream",
     "text": [
      "0.10465559127990456\n"
     ]
    }
   ],
   "source": [
    "#test_generalized_entropy_index\n",
    "\"\"\"Tests that the old and new generalized_entropy_index matches exactly.\"\"\"\n",
    "print(generalized_entropy_error(y, y_pred))"
   ]
  },
  {
   "cell_type": "code",
   "execution_count": 53,
   "metadata": {},
   "outputs": [
    {
     "name": "stdout",
     "output_type": "stream",
     "text": [
      "binary_confusion_matrix\n",
      "{'TP': 886661524.0, 'FP': 312487131.0, 'TN': 6748432926.0, 'FN': 1315994081.0}\n",
      "\n",
      "instance_weights\n",
      "[226802.  89814. 336951. ... 151910. 201490. 287927.]\n"
     ]
    }
   ],
   "source": [
    "print('binary_confusion_matrix')\n",
    "cmcm = cm.binary_confusion_matrix()\n",
    "print(cmcm)\n",
    "print()\n",
    "print('instance_weights')\n",
    "print(cm.dataset.instance_weights)"
   ]
  },
  {
   "cell_type": "code",
   "execution_count": 54,
   "metadata": {},
   "outputs": [
    {
     "name": "stdout",
     "output_type": "stream",
     "text": [
      "9263575662.0\n",
      "9263575662.0\n",
      "9263575662.0\n"
     ]
    }
   ],
   "source": [
    "print(sum([v for k, v in cmcm.items()]))\n",
    "print(np.sum(sample_weight))\n",
    "print(np.sum(cm.dataset.instance_weights))"
   ]
  },
  {
   "cell_type": "markdown",
   "metadata": {},
   "source": [
    "### A.2 aif360.metrics"
   ]
  },
  {
   "cell_type": "code",
   "execution_count": 55,
   "metadata": {},
   "outputs": [
    {
     "name": "stdout",
     "output_type": "stream",
     "text": [
      "between_all_groups_generalized_entropy_index(benefit_function=fpr_bf)\n",
      "0.14814814814814806\n"
     ]
    }
   ],
   "source": [
    "import numpy as np\n",
    "import pandas as pd\n",
    "import scipy.stats as ss\n",
    "\n",
    "from aif360.datasets import BinaryLabelDataset\n",
    "from aif360.metrics import ClassificationMetric\n",
    "\n",
    "data = np.array([[0, 1],\n",
    "                 [0, 0],\n",
    "                 [1, 0],\n",
    "                 [1, 1],\n",
    "                 [1, 0],\n",
    "                 [1, 0],\n",
    "                 [2, 1],\n",
    "                 [2, 0],\n",
    "                 [2, 1],\n",
    "                 [2, 1]])\n",
    "pred = data.copy()\n",
    "pred[[3, 9], -1] = 0\n",
    "pred[[4, 5], -1] = 1\n",
    "df = pd.DataFrame(data, columns=['feat', 'label'])\n",
    "df2 = pd.DataFrame(pred, columns=['feat', 'label'])\n",
    "bld = BinaryLabelDataset(df=df, label_names=['label'],\n",
    "    protected_attribute_names=['feat'])\n",
    "bld2 = BinaryLabelDataset(df=df2, label_names=['label'],\n",
    "    protected_attribute_names=['feat'])\n",
    "cm = ClassificationMetric(bld, bld2)\n",
    "fpr_bf = {        'TN':1, 'FP':0        }\n",
    "\n",
    "print('between_all_groups_generalized_entropy_index(benefit_function=fpr_bf)')\n",
    "print(cm.between_all_groups_generalized_entropy_index(benefit_function=fpr_bf))"
   ]
  },
  {
   "cell_type": "code",
   "execution_count": 56,
   "metadata": {},
   "outputs": [
    {
     "name": "stdout",
     "output_type": "stream",
     "text": [
      "[[{'feat': 2.0}], [{'feat': 0.0}], [{'feat': 1.0}]]\n",
      "[False False False False False False  True  True  True  True]\n",
      "{'TP': 2.0, 'FP': 0.0, 'TN': 1.0, 'FN': 1.0}\n",
      "1.0\n",
      "[1.0, 1.0, 1.0, 1.0]\n",
      "\n",
      "[ True  True False False False False False False False False]\n",
      "{'TP': 1.0, 'FP': 0.0, 'TN': 1.0, 'FN': 0.0}\n",
      "1.0\n",
      "[1.0, 1.0]\n",
      "\n",
      "[False False  True  True  True  True False False False False]\n",
      "{'TP': 0.0, 'FP': 2.0, 'TN': 1.0, 'FN': 1.0}\n",
      "0.3333333333333333\n",
      "[0.3333333333333333, 0.3333333333333333, 0.3333333333333333, 0.3333333333333333]\n",
      "\n"
     ]
    }
   ],
   "source": [
    "from itertools import product\n",
    "from aif360.metrics import utils\n",
    "\n",
    "all_values = list(map(np.concatenate, zip(cm.dataset.privileged_protected_attributes,\n",
    "                                          cm.dataset.unprivileged_protected_attributes)))\n",
    "groups = [[dict(zip(cm.dataset.protected_attribute_names, vals))] for vals in product(*all_values)]\n",
    "print(groups)\n",
    "for group in groups:\n",
    "    true_group = utils.compute_boolean_conditioning_vector(\n",
    "        cm.dataset.protected_attributes,\n",
    "        cm.dataset.protected_attribute_names,\n",
    "        condition=group)\n",
    "    print(true_group)\n",
    "    num_in_group = np.sum(true_group)\n",
    "    confusion_matrix = utils.compute_num_TF_PN(\n",
    "                cm.dataset.protected_attributes[true_group],\n",
    "                cm.dataset.labels[true_group],\n",
    "                cm.classified_dataset.labels[true_group],\n",
    "                cm.dataset.instance_weights[true_group],\n",
    "                cm.dataset.protected_attribute_names,\n",
    "                cm.dataset.favorable_label, cm.dataset.unfavorable_label,\n",
    "                condition=group)\n",
    "    print(confusion_matrix)\n",
    "    group_mean_benefit = np.mean(cm._get_benefits(confusion_matrix, fpr_bf))\n",
    "    new_b = num_in_group*[group_mean_benefit]\n",
    "    #b = b + new_b\n",
    "    print(group_mean_benefit)\n",
    "    print(new_b)\n",
    "    #print(b)\n",
    "    print()"
   ]
  },
  {
   "cell_type": "code",
   "execution_count": 57,
   "metadata": {},
   "outputs": [
    {
     "name": "stdout",
     "output_type": "stream",
     "text": [
      "0.16666666666666696\n"
     ]
    }
   ],
   "source": [
    "data = np.array([[0, 0, 1],\n",
    "                 [0, 1, 0],\n",
    "                 [1, 1, 0],\n",
    "                 [1, 1, 1],\n",
    "                 [1, 0, 0],\n",
    "                 [1, 0, 0]])\n",
    "pred = data.copy()\n",
    "pred[[0, 3], -1] = 0\n",
    "pred[[4, 5], -1] = 1\n",
    "df = pd.DataFrame(data, columns=['feat', 'feat2', 'label'])\n",
    "df2 = pd.DataFrame(pred, columns=['feat', 'feat2', 'label'])\n",
    "bld = BinaryLabelDataset(df=df, label_names=['label'],\n",
    "    protected_attribute_names=['feat', 'feat2'])\n",
    "bld2 = BinaryLabelDataset(df=df2, label_names=['label'],\n",
    "    protected_attribute_names=['feat', 'feat2'])\n",
    "cm = ClassificationMetric(bld, bld2, unprivileged_groups=[{'feat': 0}],\n",
    "    privileged_groups=[{'feat': 1}])\n",
    "\n",
    "print(cm.between_group_generalized_entropy_index(benefit_function=fpr_bf))"
   ]
  },
  {
   "cell_type": "code",
   "execution_count": 58,
   "metadata": {},
   "outputs": [
    {
     "name": "stdout",
     "output_type": "stream",
     "text": [
      "[[{'feat': 0}], [{'feat': 1}]]\n",
      "[ True  True False False False False]\n",
      "{'TP': 0.0, 'FP': 0.0, 'TN': 1.0, 'FN': 1.0}\n",
      "\n",
      "[False False  True  True  True  True]\n",
      "{'TP': 0.0, 'FP': 2.0, 'TN': 1.0, 'FN': 1.0}\n",
      "\n"
     ]
    }
   ],
   "source": [
    "from itertools import product\n",
    "from aif360.metrics import utils\n",
    "\n",
    "all_values = list(map(np.concatenate, zip(cm.dataset.privileged_protected_attributes,\n",
    "                                          cm.dataset.unprivileged_protected_attributes)))\n",
    "groups = [cm._to_condition(False), cm._to_condition(True)]\n",
    "print(groups)\n",
    "b=[]\n",
    "for group in groups:\n",
    "    true_group = utils.compute_boolean_conditioning_vector(\n",
    "        cm.dataset.protected_attributes,\n",
    "        cm.dataset.protected_attribute_names,\n",
    "        condition=group)\n",
    "    print(true_group)\n",
    "    num_in_group = np.sum(true_group)\n",
    "    confusion_matrix = utils.compute_num_TF_PN(\n",
    "                cm.dataset.protected_attributes[true_group],\n",
    "                cm.dataset.labels[true_group],\n",
    "                cm.classified_dataset.labels[true_group],\n",
    "                cm.dataset.instance_weights[true_group],\n",
    "                cm.dataset.protected_attribute_names,\n",
    "                cm.dataset.favorable_label, cm.dataset.unfavorable_label,\n",
    "                condition=group)\n",
    "    print(confusion_matrix)\n",
    "    group_benefits = cm._get_benefits(confusion_matrix, fpr_bf)\n",
    "    group_mean_benefit = np.mean(group_benefits)\n",
    "    new_b = len(group_benefits)*[group_mean_benefit]\n",
    "    b = b + new_b\n",
    "    print()"
   ]
  },
  {
   "cell_type": "markdown",
   "metadata": {},
   "source": [
    "### A.3 Consistency score - expose distance metric and ability to ignore protected features"
   ]
  },
  {
   "cell_type": "code",
   "execution_count": 59,
   "metadata": {},
   "outputs": [
    {
     "name": "stdout",
     "output_type": "stream",
     "text": [
      "distances\tindices\n"
     ]
    },
    {
     "data": {
      "text/plain": [
       "(array([[0.        , 7.41619849],\n",
       "        [0.        , 6.63324958],\n",
       "        [0.        , 8.88819442]]),\n",
       " array([[  0, 679],\n",
       "        [  1, 299],\n",
       "        [  2, 165]]))"
      ]
     },
     "metadata": {},
     "output_type": "display_data"
    },
    {
     "data": {
      "text/plain": [
       "(3, 2)"
      ]
     },
     "execution_count": 59,
     "metadata": {},
     "output_type": "execute_result"
    }
   ],
   "source": [
    "from sklearn.neighbors import NearestNeighbors\n",
    "\n",
    "def my_dist(x1, x2):\n",
    "    return np.sqrt(np.sum((x1-x2)*(x1-x2)))\n",
    "    #return np.sum(weights*(x1-x2)*(x1-x2))\n",
    "\n",
    "clfNN = NearestNeighbors(n_neighbors=2, metric=my_dist)\n",
    "clfNN.fit(X_train)\n",
    "print('distances\\tindices')\n",
    "display(clfNN.kneighbors(X_train[:3]))\n",
    "clfNN.kneighbors(X_train[:3])[1].shape"
   ]
  },
  {
   "cell_type": "code",
   "execution_count": null,
   "metadata": {},
   "outputs": [],
   "source": []
  },
  {
   "cell_type": "code",
   "execution_count": null,
   "metadata": {},
   "outputs": [],
   "source": []
  }
 ],
 "metadata": {
  "kernelspec": {
   "display_name": "Python 3",
   "language": "python",
   "name": "python3"
  },
  "language_info": {
   "codemirror_mode": {
    "name": "ipython",
    "version": 3
   },
   "file_extension": ".py",
   "mimetype": "text/x-python",
   "name": "python",
   "nbconvert_exporter": "python",
   "pygments_lexer": "ipython3",
   "version": "3.7.3"
  }
 },
 "nbformat": 4,
 "nbformat_minor": 2
}
